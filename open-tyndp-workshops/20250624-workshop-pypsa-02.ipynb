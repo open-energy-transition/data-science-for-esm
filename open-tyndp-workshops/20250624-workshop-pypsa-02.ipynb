{
 "cells": [
  {
   "cell_type": "markdown",
   "id": "e1bee99052b4b9a7",
   "metadata": {},
   "source": [
    "# Workshop 2: Introduction to `Snakemake`, new features update & benchmarking"
   ]
  },
  {
   "cell_type": "markdown",
   "id": "de6b79e8",
   "metadata": {},
   "source": [
    ":::{note}\n",
    "If you have not yet set up Python on your computer, you can execute this tutorial in your browser via [Google Colab](https://colab.research.google.com/). Click on the rocket in the top right corner and launch \"Colab\". If that doesn't work download the `.ipynb` file and import it in [Google Colab](https://colab.research.google.com/).\n",
    "\n",
    "Then install the following packages by executing the following command in a Jupyter cell at the top of the notebook.\n",
    "\n",
    "```sh\n",
    "!pip install pypsa pandas geopandas xarray matplotlib seaborn cartopy snakemake graphviz snakemake-storage-plugin-http pdf2image\n",
    "```\n",
    ":::"
   ]
  },
  {
   "cell_type": "code",
   "execution_count": null,
   "id": "fbfeb9b020fb0a90",
   "metadata": {},
   "outputs": [],
   "source": [
    "# uncomment for running this notebook on Colab\n",
    "# !pip install pypsa pandas geopandas xarray matplotlib seaborn cartopy snakemake graphviz snakemake-storage-plugin-http pdf2image"
   ]
  },
  {
   "cell_type": "code",
   "execution_count": 1,
   "id": "bdb98d61fbdec876",
   "metadata": {},
   "outputs": [],
   "source": [
    "# import packages\n",
    "from IPython.display import Code, SVG, Image, IFrame, display\n",
    "from pdf2image import convert_from_path\n",
    "from urllib.request import urlretrieve\n",
    "from matplotlib.ticker import MultipleLocator\n",
    "import cartopy.crs as ccrs\n",
    "import os\n",
    "import numpy as np\n",
    "import pypsa\n",
    "import pandas as pd\n",
    "import matplotlib.pyplot as plt\n",
    "import seaborn as sns\n",
    "from pathlib import Path\n",
    "from pypsa.plot.maps.static import (\n",
    "    add_legend_circles,\n",
    "    add_legend_patches,\n",
    "    add_legend_lines,\n",
    ")\n",
    "\n",
    "pypsa.options.params.statistics.round = 3\n",
    "pypsa.options.params.statistics.drop_zero = True\n",
    "pypsa.options.params.statistics.nice_names = False\n",
    "plt.rcParams[\"figure.figsize\"] = [14, 7]"
   ]
  },
  {
   "cell_type": "code",
   "execution_count": 2,
   "id": "736aaf6b359986fe",
   "metadata": {},
   "outputs": [
    {
     "name": "stdout",
     "output_type": "stream",
     "text": [
      "File data/data_raw.csv already exists. Skipping download.\n",
      "File data/open-tyndp.zip already exists. Skipping download.\n",
      "File data/network_NT_presolve_highres_2030.nc already exists. Skipping download.\n",
      "Unzipping data/open-tyndp.zip.\n",
      "Open-TYNDP available in 'data/open-tyndp'.\n",
      "Done\n"
     ]
    }
   ],
   "source": [
    "urls = {\n",
    "    \"data/data_raw.csv\": \"https://storage.googleapis.com/open-tyndp-data-store/workshop-02/data_raw.csv\",\n",
    "    \"data/open-tyndp.zip\": \"https://storage.googleapis.com/open-tyndp-data-store/workshop-02/open-tyndp.zip\",\n",
    "    \"data/network_NT_presolve_highres_2030.nc\": \"https://storage.googleapis.com/open-tyndp-data-store/workshop-02/network_NT_presolve_highres_2030.nc\",\n",
    "}\n",
    "\n",
    "os.makedirs(\"data\", exist_ok=True)\n",
    "for name, url in urls.items():\n",
    "    if os.path.exists(name):\n",
    "        print(f\"File {name} already exists. Skipping download.\")\n",
    "    else:\n",
    "        print(f\"Retrieving {name} from GCP storage.\")\n",
    "        urlretrieve(url, name)\n",
    "        print(f\"File available in {name}.\")\n",
    "\n",
    "to_dir = \"data/open-tyndp\"\n",
    "if not os.path.exists(to_dir):\n",
    "    print(f\"Unzipping data/open-tyndp.zip.\")\n",
    "    ! unzip -q -o data/open-tyndp.zip -d data/open-tyndp\n",
    "print(f\"Open-TYNDP available in '{to_dir}'.\")\n",
    "\n",
    "print(\"Done\")"
   ]
  },
  {
   "cell_type": "markdown",
   "id": "f68125e0502973f",
   "metadata": {},
   "source": [
    "# The `Snakemake` tool"
   ]
  },
  {
   "cell_type": "markdown",
   "id": "f44c6959896526ad",
   "metadata": {},
   "source": [
    "![](snakemake_logo.png)\n",
    "\n",
    "The `Snakemake` workflow management system is a tool to create reproducible and scalable data analyses.\n",
    "Workflows are described via a human readable, Python based language. They can be seamlessly scaled to server, cluster, grid, and cloud environments, without the need to modify the workflow definition."
   ]
  },
  {
   "cell_type": "markdown",
   "id": "2f61ff44",
   "metadata": {},
   "source": [
    "Snakemake follows the [GNU Make](https://www.gnu.org/software/make) paradigm: workflows are defined in terms of so-called `rules` that specify how to create a set of output files from a set of input files. Dependencies between the rules are determined automatically, creating a DAG (directed acyclic graph) of jobs that can be automatically parallelized."
   ]
  },
  {
   "cell_type": "markdown",
   "id": "94c5c5e23a63e560",
   "metadata": {},
   "source": [
    ":::{note}\n",
    "Documentation for this package is available at https://snakemake.readthedocs.io/. You can also check out a [slide deck Snakemake Tutorial](https://slides.com/johanneskoester/snakemake-tutorial) by Johannes Köster (2024).\n",
    "\n",
    "Mölder, F., Jablonski, K.P., Letcher, B., Hall, M.B., Tomkins-Tinch, C.H., Sochat, V., Forster, J., Lee, S., Twardziok, S.O., Kanitz, A., Wilm, A., Holtgrewe, M., Rahmann, S., Nahnsen, S., Köster, J., 2021. Sustainable data analysis with Snakemake. F1000Res 10, 33.\n",
    ":::\n"
   ]
  },
  {
   "cell_type": "markdown",
   "id": "2e82c9e22d6b8ce6",
   "metadata": {},
   "source": [
    "## A minimal Snakemake example"
   ]
  },
  {
   "cell_type": "markdown",
   "id": "a2f936ab",
   "metadata": {},
   "source": [
    "To check out how this looks in practice, we've prepared a minimal Snakemake example workflow that processes some data. The minimal workflow consists of the following rules:\n",
    "- `retrieve_data`\n",
    "- `build_data`\n",
    "- `prepare_network`\n",
    "- `solve_network`\n",
    "- `plot_benchmark`\n",
    "- `all`\n",
    "\n",
    "These rules are illustrative and mimic the Open-TYNDP structure and nomenclature."
   ]
  },
  {
   "cell_type": "markdown",
   "id": "3c33282d",
   "metadata": {},
   "source": [
    "<center>\n",
    "\n",
    "![](minimal_workflow.png)\n",
    "\n",
    "</center>"
   ]
  },
  {
   "cell_type": "markdown",
   "id": "534d9440",
   "metadata": {},
   "source": [
    "We have already loaded the raw data file used in this minimal example into our working directory.\n",
    "\n",
    "As you can see, `plot_benchmark` will be called twice with two different filename extensions. For this, we are taking advantage of the concept of wildcards (`ext`). Snakemake will automatically resolve the wildcards using the dependency graph. In this case, the `all` rule takes as input both a `png` and a `pdf` figure which propagates back throughout the workflow."
   ]
  },
  {
   "cell_type": "markdown",
   "id": "458220db",
   "metadata": {},
   "source": [
    "### The `Snakefile` and `rules`"
   ]
  },
  {
   "cell_type": "markdown",
   "id": "c6ef510f",
   "metadata": {},
   "source": [
    "The rules need to be defined in a so-called `Snakefile` that sits in your current working directory. For our minimal example the `Snakefile` looks like this:"
   ]
  },
  {
   "cell_type": "code",
   "execution_count": 3,
   "id": "c9dfe4ae",
   "metadata": {},
   "outputs": [
    {
     "data": {
      "text/html": [
       "<style>pre { line-height: 125%; }\n",
       "td.linenos .normal { color: inherit; background-color: transparent; padding-left: 5px; padding-right: 5px; }\n",
       "span.linenos { color: inherit; background-color: transparent; padding-left: 5px; padding-right: 5px; }\n",
       "td.linenos .special { color: #000000; background-color: #ffffc0; padding-left: 5px; padding-right: 5px; }\n",
       "span.linenos.special { color: #000000; background-color: #ffffc0; padding-left: 5px; padding-right: 5px; }\n",
       ".output_html .hll { background-color: #ffffcc }\n",
       ".output_html { background: #f8f8f8; }\n",
       ".output_html .c { color: #3D7B7B; font-style: italic } /* Comment */\n",
       ".output_html .err { border: 1px solid #F00 } /* Error */\n",
       ".output_html .k { color: #008000; font-weight: bold } /* Keyword */\n",
       ".output_html .o { color: #666 } /* Operator */\n",
       ".output_html .ch { color: #3D7B7B; font-style: italic } /* Comment.Hashbang */\n",
       ".output_html .cm { color: #3D7B7B; font-style: italic } /* Comment.Multiline */\n",
       ".output_html .cp { color: #9C6500 } /* Comment.Preproc */\n",
       ".output_html .cpf { color: #3D7B7B; font-style: italic } /* Comment.PreprocFile */\n",
       ".output_html .c1 { color: #3D7B7B; font-style: italic } /* Comment.Single */\n",
       ".output_html .cs { color: #3D7B7B; font-style: italic } /* Comment.Special */\n",
       ".output_html .gd { color: #A00000 } /* Generic.Deleted */\n",
       ".output_html .ge { font-style: italic } /* Generic.Emph */\n",
       ".output_html .ges { font-weight: bold; font-style: italic } /* Generic.EmphStrong */\n",
       ".output_html .gr { color: #E40000 } /* Generic.Error */\n",
       ".output_html .gh { color: #000080; font-weight: bold } /* Generic.Heading */\n",
       ".output_html .gi { color: #008400 } /* Generic.Inserted */\n",
       ".output_html .go { color: #717171 } /* Generic.Output */\n",
       ".output_html .gp { color: #000080; font-weight: bold } /* Generic.Prompt */\n",
       ".output_html .gs { font-weight: bold } /* Generic.Strong */\n",
       ".output_html .gu { color: #800080; font-weight: bold } /* Generic.Subheading */\n",
       ".output_html .gt { color: #04D } /* Generic.Traceback */\n",
       ".output_html .kc { color: #008000; font-weight: bold } /* Keyword.Constant */\n",
       ".output_html .kd { color: #008000; font-weight: bold } /* Keyword.Declaration */\n",
       ".output_html .kn { color: #008000; font-weight: bold } /* Keyword.Namespace */\n",
       ".output_html .kp { color: #008000 } /* Keyword.Pseudo */\n",
       ".output_html .kr { color: #008000; font-weight: bold } /* Keyword.Reserved */\n",
       ".output_html .kt { color: #B00040 } /* Keyword.Type */\n",
       ".output_html .m { color: #666 } /* Literal.Number */\n",
       ".output_html .s { color: #BA2121 } /* Literal.String */\n",
       ".output_html .na { color: #687822 } /* Name.Attribute */\n",
       ".output_html .nb { color: #008000 } /* Name.Builtin */\n",
       ".output_html .nc { color: #00F; font-weight: bold } /* Name.Class */\n",
       ".output_html .no { color: #800 } /* Name.Constant */\n",
       ".output_html .nd { color: #A2F } /* Name.Decorator */\n",
       ".output_html .ni { color: #717171; font-weight: bold } /* Name.Entity */\n",
       ".output_html .ne { color: #CB3F38; font-weight: bold } /* Name.Exception */\n",
       ".output_html .nf { color: #00F } /* Name.Function */\n",
       ".output_html .nl { color: #767600 } /* Name.Label */\n",
       ".output_html .nn { color: #00F; font-weight: bold } /* Name.Namespace */\n",
       ".output_html .nt { color: #008000; font-weight: bold } /* Name.Tag */\n",
       ".output_html .nv { color: #19177C } /* Name.Variable */\n",
       ".output_html .ow { color: #A2F; font-weight: bold } /* Operator.Word */\n",
       ".output_html .w { color: #BBB } /* Text.Whitespace */\n",
       ".output_html .mb { color: #666 } /* Literal.Number.Bin */\n",
       ".output_html .mf { color: #666 } /* Literal.Number.Float */\n",
       ".output_html .mh { color: #666 } /* Literal.Number.Hex */\n",
       ".output_html .mi { color: #666 } /* Literal.Number.Integer */\n",
       ".output_html .mo { color: #666 } /* Literal.Number.Oct */\n",
       ".output_html .sa { color: #BA2121 } /* Literal.String.Affix */\n",
       ".output_html .sb { color: #BA2121 } /* Literal.String.Backtick */\n",
       ".output_html .sc { color: #BA2121 } /* Literal.String.Char */\n",
       ".output_html .dl { color: #BA2121 } /* Literal.String.Delimiter */\n",
       ".output_html .sd { color: #BA2121; font-style: italic } /* Literal.String.Doc */\n",
       ".output_html .s2 { color: #BA2121 } /* Literal.String.Double */\n",
       ".output_html .se { color: #AA5D1F; font-weight: bold } /* Literal.String.Escape */\n",
       ".output_html .sh { color: #BA2121 } /* Literal.String.Heredoc */\n",
       ".output_html .si { color: #A45A77; font-weight: bold } /* Literal.String.Interpol */\n",
       ".output_html .sx { color: #008000 } /* Literal.String.Other */\n",
       ".output_html .sr { color: #A45A77 } /* Literal.String.Regex */\n",
       ".output_html .s1 { color: #BA2121 } /* Literal.String.Single */\n",
       ".output_html .ss { color: #19177C } /* Literal.String.Symbol */\n",
       ".output_html .bp { color: #008000 } /* Name.Builtin.Pseudo */\n",
       ".output_html .fm { color: #00F } /* Name.Function.Magic */\n",
       ".output_html .vc { color: #19177C } /* Name.Variable.Class */\n",
       ".output_html .vg { color: #19177C } /* Name.Variable.Global */\n",
       ".output_html .vi { color: #19177C } /* Name.Variable.Instance */\n",
       ".output_html .vm { color: #19177C } /* Name.Variable.Magic */\n",
       ".output_html .il { color: #666 } /* Literal.Number.Integer.Long */</style><div class=\"highlight\"><pre><span></span><span class=\"c1\"># SPDX-FileCopyrightText: Open Energy Transition gGmbH</span>\n",
       "<span class=\"c1\">#</span>\n",
       "<span class=\"c1\"># SPDX-License-Identifier: MIT</span>\n",
       "\n",
       "<span class=\"kn\">from</span><span class=\"w\"> </span><span class=\"nn\">pathlib</span><span class=\"w\"> </span><span class=\"kn\">import</span> <span class=\"n\">Path</span>\n",
       "\n",
       "<span class=\"n\">rule</span> <span class=\"nb\">all</span><span class=\"p\">:</span>\n",
       "    <span class=\"nb\">input</span><span class=\"p\">:</span>\n",
       "        <span class=\"s2\">&quot;data/benchmark.png&quot;</span><span class=\"p\">,</span>\n",
       "        <span class=\"s2\">&quot;data/benchmark.pdf&quot;</span>\n",
       "\n",
       "<span class=\"n\">rule</span> <span class=\"n\">retrieve_data</span><span class=\"p\">:</span>\n",
       "    <span class=\"n\">output</span><span class=\"p\">:</span>\n",
       "        <span class=\"s2\">&quot;data/data_raw.csv&quot;</span>\n",
       "    <span class=\"n\">shell</span><span class=\"p\">:</span>\n",
       "        <span class=\"s2\">&quot;wget -O </span><span class=\"si\">{output}</span><span class=\"s2\"> https://storage.googleapis.com/open-tyndp-data-store/workshop-02/data_raw.csv&quot;</span>\n",
       "\n",
       "<span class=\"n\">rule</span> <span class=\"n\">build_data</span><span class=\"p\">:</span>\n",
       "    <span class=\"nb\">input</span><span class=\"p\">:</span>\n",
       "        <span class=\"s2\">&quot;data/data_raw.csv&quot;</span>\n",
       "    <span class=\"n\">output</span><span class=\"p\">:</span>\n",
       "        <span class=\"s2\">&quot;data/data_filtered.csv&quot;</span>\n",
       "    <span class=\"n\">script</span><span class=\"p\">:</span>\n",
       "        <span class=\"s2\">&quot;scripts/build_data.py&quot;</span>\n",
       "\n",
       "<span class=\"n\">rule</span> <span class=\"n\">prepare_network</span><span class=\"p\">:</span>\n",
       "    <span class=\"nb\">input</span><span class=\"p\">:</span>\n",
       "        <span class=\"s2\">&quot;data/data_filtered.csv&quot;</span>\n",
       "    <span class=\"n\">output</span><span class=\"p\">:</span>\n",
       "        <span class=\"s2\">&quot;data/base_2030.nc&quot;</span>\n",
       "    <span class=\"n\">script</span><span class=\"p\">:</span>\n",
       "        <span class=\"s2\">&quot;scripts/prepare_network.py&quot;</span>\n",
       "\n",
       "<span class=\"n\">rule</span> <span class=\"n\">solve_network</span><span class=\"p\">:</span>\n",
       "    <span class=\"nb\">input</span><span class=\"p\">:</span>\n",
       "        <span class=\"s2\">&quot;data/base_2030.nc&quot;</span>\n",
       "    <span class=\"n\">output</span><span class=\"p\">:</span>\n",
       "        <span class=\"s2\">&quot;data/base_2030_solved.nc&quot;</span>\n",
       "    <span class=\"n\">shell</span><span class=\"p\">:</span>\n",
       "        <span class=\"s2\">&quot;cp </span><span class=\"si\">{input}</span><span class=\"s2\"> </span><span class=\"si\">{output}</span><span class=\"s2\">&quot;</span>\n",
       "\n",
       "<span class=\"n\">rule</span> <span class=\"n\">plot_benchmark</span><span class=\"p\">:</span>\n",
       "    <span class=\"nb\">input</span><span class=\"p\">:</span>\n",
       "        <span class=\"s2\">&quot;data/base_2030_solved.nc&quot;</span>\n",
       "    <span class=\"n\">output</span><span class=\"p\">:</span>\n",
       "        <span class=\"s2\">&quot;data/benchmark.</span><span class=\"si\">{ext}</span><span class=\"s2\">&quot;</span>\n",
       "    <span class=\"n\">run</span><span class=\"p\">:</span>\n",
       "        <span class=\"n\">Path</span><span class=\"p\">(</span><span class=\"n\">output</span><span class=\"p\">[</span><span class=\"mi\">0</span><span class=\"p\">])</span><span class=\"o\">.</span><span class=\"n\">touch</span><span class=\"p\">()</span>\n",
       "</pre></div>\n"
      ],
      "text/latex": [
       "\\begin{Verbatim}[commandchars=\\\\\\{\\}]\n",
       "\\PY{c+c1}{\\PYZsh{} SPDX\\PYZhy{}FileCopyrightText: Open Energy Transition gGmbH}\n",
       "\\PY{c+c1}{\\PYZsh{}}\n",
       "\\PY{c+c1}{\\PYZsh{} SPDX\\PYZhy{}License\\PYZhy{}Identifier: MIT}\n",
       "\n",
       "\\PY{k+kn}{from}\\PY{+w}{ }\\PY{n+nn}{pathlib}\\PY{+w}{ }\\PY{k+kn}{import} \\PY{n}{Path}\n",
       "\n",
       "\\PY{n}{rule} \\PY{n+nb}{all}\\PY{p}{:}\n",
       "    \\PY{n+nb}{input}\\PY{p}{:}\n",
       "        \\PY{l+s+s2}{\\PYZdq{}}\\PY{l+s+s2}{data/benchmark.png}\\PY{l+s+s2}{\\PYZdq{}}\\PY{p}{,}\n",
       "        \\PY{l+s+s2}{\\PYZdq{}}\\PY{l+s+s2}{data/benchmark.pdf}\\PY{l+s+s2}{\\PYZdq{}}\n",
       "\n",
       "\\PY{n}{rule} \\PY{n}{retrieve\\PYZus{}data}\\PY{p}{:}\n",
       "    \\PY{n}{output}\\PY{p}{:}\n",
       "        \\PY{l+s+s2}{\\PYZdq{}}\\PY{l+s+s2}{data/data\\PYZus{}raw.csv}\\PY{l+s+s2}{\\PYZdq{}}\n",
       "    \\PY{n}{shell}\\PY{p}{:}\n",
       "        \\PY{l+s+s2}{\\PYZdq{}}\\PY{l+s+s2}{wget \\PYZhy{}O }\\PY{l+s+si}{\\PYZob{}output\\PYZcb{}}\\PY{l+s+s2}{ https://storage.googleapis.com/open\\PYZhy{}tyndp\\PYZhy{}data\\PYZhy{}store/workshop\\PYZhy{}02/data\\PYZus{}raw.csv}\\PY{l+s+s2}{\\PYZdq{}}\n",
       "\n",
       "\\PY{n}{rule} \\PY{n}{build\\PYZus{}data}\\PY{p}{:}\n",
       "    \\PY{n+nb}{input}\\PY{p}{:}\n",
       "        \\PY{l+s+s2}{\\PYZdq{}}\\PY{l+s+s2}{data/data\\PYZus{}raw.csv}\\PY{l+s+s2}{\\PYZdq{}}\n",
       "    \\PY{n}{output}\\PY{p}{:}\n",
       "        \\PY{l+s+s2}{\\PYZdq{}}\\PY{l+s+s2}{data/data\\PYZus{}filtered.csv}\\PY{l+s+s2}{\\PYZdq{}}\n",
       "    \\PY{n}{script}\\PY{p}{:}\n",
       "        \\PY{l+s+s2}{\\PYZdq{}}\\PY{l+s+s2}{scripts/build\\PYZus{}data.py}\\PY{l+s+s2}{\\PYZdq{}}\n",
       "\n",
       "\\PY{n}{rule} \\PY{n}{prepare\\PYZus{}network}\\PY{p}{:}\n",
       "    \\PY{n+nb}{input}\\PY{p}{:}\n",
       "        \\PY{l+s+s2}{\\PYZdq{}}\\PY{l+s+s2}{data/data\\PYZus{}filtered.csv}\\PY{l+s+s2}{\\PYZdq{}}\n",
       "    \\PY{n}{output}\\PY{p}{:}\n",
       "        \\PY{l+s+s2}{\\PYZdq{}}\\PY{l+s+s2}{data/base\\PYZus{}2030.nc}\\PY{l+s+s2}{\\PYZdq{}}\n",
       "    \\PY{n}{script}\\PY{p}{:}\n",
       "        \\PY{l+s+s2}{\\PYZdq{}}\\PY{l+s+s2}{scripts/prepare\\PYZus{}network.py}\\PY{l+s+s2}{\\PYZdq{}}\n",
       "\n",
       "\\PY{n}{rule} \\PY{n}{solve\\PYZus{}network}\\PY{p}{:}\n",
       "    \\PY{n+nb}{input}\\PY{p}{:}\n",
       "        \\PY{l+s+s2}{\\PYZdq{}}\\PY{l+s+s2}{data/base\\PYZus{}2030.nc}\\PY{l+s+s2}{\\PYZdq{}}\n",
       "    \\PY{n}{output}\\PY{p}{:}\n",
       "        \\PY{l+s+s2}{\\PYZdq{}}\\PY{l+s+s2}{data/base\\PYZus{}2030\\PYZus{}solved.nc}\\PY{l+s+s2}{\\PYZdq{}}\n",
       "    \\PY{n}{shell}\\PY{p}{:}\n",
       "        \\PY{l+s+s2}{\\PYZdq{}}\\PY{l+s+s2}{cp }\\PY{l+s+si}{\\PYZob{}input\\PYZcb{}}\\PY{l+s+s2}{ }\\PY{l+s+si}{\\PYZob{}output\\PYZcb{}}\\PY{l+s+s2}{\\PYZdq{}}\n",
       "\n",
       "\\PY{n}{rule} \\PY{n}{plot\\PYZus{}benchmark}\\PY{p}{:}\n",
       "    \\PY{n+nb}{input}\\PY{p}{:}\n",
       "        \\PY{l+s+s2}{\\PYZdq{}}\\PY{l+s+s2}{data/base\\PYZus{}2030\\PYZus{}solved.nc}\\PY{l+s+s2}{\\PYZdq{}}\n",
       "    \\PY{n}{output}\\PY{p}{:}\n",
       "        \\PY{l+s+s2}{\\PYZdq{}}\\PY{l+s+s2}{data/benchmark.}\\PY{l+s+si}{\\PYZob{}ext\\PYZcb{}}\\PY{l+s+s2}{\\PYZdq{}}\n",
       "    \\PY{n}{run}\\PY{p}{:}\n",
       "        \\PY{n}{Path}\\PY{p}{(}\\PY{n}{output}\\PY{p}{[}\\PY{l+m+mi}{0}\\PY{p}{]}\\PY{p}{)}\\PY{o}{.}\\PY{n}{touch}\\PY{p}{(}\\PY{p}{)}\n",
       "\\end{Verbatim}\n"
      ],
      "text/plain": [
       "# SPDX-FileCopyrightText: Open Energy Transition gGmbH\n",
       "#\n",
       "# SPDX-License-Identifier: MIT\n",
       "\n",
       "from pathlib import Path\n",
       "\n",
       "rule all:\n",
       "    input:\n",
       "        \"data/benchmark.png\",\n",
       "        \"data/benchmark.pdf\"\n",
       "\n",
       "rule retrieve_data:\n",
       "    output:\n",
       "        \"data/data_raw.csv\"\n",
       "    shell:\n",
       "        \"wget -O {output} https://storage.googleapis.com/open-tyndp-data-store/workshop-02/data_raw.csv\"\n",
       "\n",
       "rule build_data:\n",
       "    input:\n",
       "        \"data/data_raw.csv\"\n",
       "    output:\n",
       "        \"data/data_filtered.csv\"\n",
       "    script:\n",
       "        \"scripts/build_data.py\"\n",
       "\n",
       "rule prepare_network:\n",
       "    input:\n",
       "        \"data/data_filtered.csv\"\n",
       "    output:\n",
       "        \"data/base_2030.nc\"\n",
       "    script:\n",
       "        \"scripts/prepare_network.py\"\n",
       "\n",
       "rule solve_network:\n",
       "    input:\n",
       "        \"data/base_2030.nc\"\n",
       "    output:\n",
       "        \"data/base_2030_solved.nc\"\n",
       "    shell:\n",
       "        \"cp {input} {output}\"\n",
       "\n",
       "rule plot_benchmark:\n",
       "    input:\n",
       "        \"data/base_2030_solved.nc\"\n",
       "    output:\n",
       "        \"data/benchmark.{ext}\"\n",
       "    run:\n",
       "        Path(output[0]).touch()"
      ]
     },
     "execution_count": 3,
     "metadata": {},
     "output_type": "execute_result"
    }
   ],
   "source": [
    "Code(filename=\"Snakefile\", language=\"Python\")"
   ]
  },
  {
   "cell_type": "markdown",
   "id": "d9e08a20",
   "metadata": {},
   "source": [
    "You can check out the scripts under `scripts`. You will see that they are simplistic and only serve an illustrative purpose.\n",
    "\n",
    "You can also observe how the `plot_benchmark` rule is defined to take advantage of the wildcards. This reduces the redundancy in the `Snakefile`. Wildcards are defined between `{ }` in the rule definition."
   ]
  },
  {
   "cell_type": "markdown",
   "id": "677e4c85",
   "metadata": {},
   "source": [
    "### Calling a workflow"
   ]
  },
  {
   "cell_type": "markdown",
   "id": "ce7ebade",
   "metadata": {},
   "source": [
    "You can trigger the workflow by specifying a target file, like `data/benchmark.pdf`, or any intermediate file:\n",
    "```bash\n",
    "snakemake -call data/benchmark.pdf\n",
    "```"
   ]
  },
  {
   "cell_type": "markdown",
   "id": "f9edee26",
   "metadata": {},
   "source": [
    "Alternatively, you can also execute the workflow by calling a rule that produces an intermediate file:\n",
    "```bash\n",
    "snakemake -call build_data\n",
    "```\n",
    "**NOTE:** You cannot call a rule that includes a wildcard without specifying what the wildcard should be filled with. Otherwise, Snakemake will not know what to propagate back."
   ]
  },
  {
   "cell_type": "markdown",
   "id": "6235bc82",
   "metadata": {},
   "source": [
    "Or you can call the common rule `all` which can be used to execute the entire workflow. It takes the final workflow output as its input and thus requires all previous dependent rules to be run as well:\n",
    "```bash\n",
    "snakemake -call all\n",
    "```\n",
    "\n",
    "Because we defined the `all` rule as first in the `Snakefile`, this rule is assumed to be the default and the following also works:\n",
    "```bash\n",
    "snakemake -call\n",
    "```"
   ]
  },
  {
   "cell_type": "markdown",
   "id": "d8fd843e",
   "metadata": {},
   "source": [
    "A very important feature is the `-n` flag which executes a `dry-run`. It is recommended to always first execute a `dry-run` before the actual execution of a workflow. This simply prints out the DAG of the workflow to investigate without actually executing it.\n",
    "\n",
    "Let's try this out and investigate the output:"
   ]
  },
  {
   "cell_type": "code",
   "execution_count": 4,
   "id": "ec82288e",
   "metadata": {},
   "outputs": [
    {
     "name": "stdout",
     "output_type": "stream",
     "text": [
      "Set parameter Username\n",
      "Academic license - for non-commercial use only - expires 2026-04-14\n",
      "\u001b[33mhost: Mac.home\u001b[0m\n",
      "\u001b[33mBuilding DAG of jobs...\u001b[0m\n",
      "\u001b[33mJob stats:\n",
      "job                count\n",
      "---------------  -------\n",
      "all                    1\n",
      "build_data             1\n",
      "plot_benchmark         2\n",
      "prepare_network        1\n",
      "solve_network          1\n",
      "total                  6\n",
      "\u001b[0m\n",
      "\n",
      "\u001b[32m[Tue Oct 14 15:43:13 2025]\n",
      "rule build_data:\n",
      "    input: data/data_raw.csv\n",
      "    output: data/data_filtered.csv\n",
      "    jobid: 4\n",
      "    reason: Missing output files: data/data_filtered.csv\n",
      "    resources: tmpdir=<TBD>\u001b[0m\n",
      "\u001b[32m[Tue Oct 14 15:43:13 2025]\n",
      "rule prepare_network:\n",
      "    input: data/data_filtered.csv\n",
      "    output: data/base_2030.nc\n",
      "    jobid: 3\n",
      "    reason: Missing output files: data/base_2030.nc; Input files updated by another job: data/data_filtered.csv\n",
      "    resources: tmpdir=<TBD>\u001b[0m\n",
      "\u001b[32m[Tue Oct 14 15:43:13 2025]\n",
      "rule solve_network:\n",
      "    input: data/base_2030.nc\n",
      "    output: data/base_2030_solved.nc\n",
      "    jobid: 2\n",
      "    reason: Missing output files: data/base_2030_solved.nc; Input files updated by another job: data/base_2030.nc\n",
      "    resources: tmpdir=<TBD>\u001b[0m\n",
      "\u001b[32m[Tue Oct 14 15:43:13 2025]\n",
      "rule plot_benchmark:\n",
      "    input: data/base_2030_solved.nc\n",
      "    output: data/benchmark.png\n",
      "    jobid: 1\n",
      "    reason: Missing output files: data/benchmark.png; Input files updated by another job: data/base_2030_solved.nc\n",
      "    wildcards: ext=png\n",
      "    resources: tmpdir=<TBD>\u001b[0m\n",
      "\u001b[32m[Tue Oct 14 15:43:13 2025]\n",
      "rule plot_benchmark:\n",
      "    input: data/base_2030_solved.nc\n",
      "    output: data/benchmark.pdf\n",
      "    jobid: 6\n",
      "    reason: Missing output files: data/benchmark.pdf; Input files updated by another job: data/base_2030_solved.nc\n",
      "    wildcards: ext=pdf\n",
      "    resources: tmpdir=<TBD>\u001b[0m\n",
      "\u001b[32m[Tue Oct 14 15:43:13 2025]\n",
      "rule all:\n",
      "    input: data/benchmark.png, data/benchmark.pdf\n",
      "    jobid: 0\n",
      "    reason: Input files updated by another job: data/benchmark.png, data/benchmark.pdf\n",
      "    resources: tmpdir=<TBD>\u001b[0m\n",
      "\u001b[33mJob stats:\n",
      "job                count\n",
      "---------------  -------\n",
      "all                    1\n",
      "build_data             1\n",
      "plot_benchmark         2\n",
      "prepare_network        1\n",
      "solve_network          1\n",
      "total                  6\n",
      "\u001b[0m\n",
      "\u001b[33mReasons:\n",
      "    (check individual jobs above for details)\n",
      "    input files updated by another job:\n",
      "        all, plot_benchmark, prepare_network, solve_network\n",
      "    output files have to be generated:\n",
      "        build_data, plot_benchmark, prepare_network, solve_network\u001b[0m\n",
      "\u001b[33m1 jobs have missing provenance/metadata so that it in part cannot be used to trigger re-runs.\n",
      "Rules with missing metadata: retrieve_data\u001b[0m\n",
      "\u001b[33mThis was a dry-run (flag -n). The order of jobs does not reflect the order of execution.\u001b[0m\n"
     ]
    }
   ],
   "source": [
    "! snakemake -call -n"
   ]
  },
  {
   "cell_type": "markdown",
   "id": "709ca66e",
   "metadata": {},
   "source": [
    "As you can see, the `plot_benchmark` rule will be executed twice due to wildcards."
   ]
  },
  {
   "cell_type": "markdown",
   "id": "dd6ef812",
   "metadata": {},
   "source": [
    "### Visualizing the `DAG` of a workflow"
   ]
  },
  {
   "cell_type": "markdown",
   "id": "9ff53df2",
   "metadata": {},
   "source": [
    "You can also visualize the DAG of jobs using the `--dag` flag and the Graphviz `dot` command. This will not run the workflow but only create the visualization:"
   ]
  },
  {
   "cell_type": "code",
   "execution_count": 5,
   "id": "e051153b",
   "metadata": {},
   "outputs": [
    {
     "name": "stdout",
     "output_type": "stream",
     "text": [
      "\u001b[33mBuilding DAG of jobs...\u001b[0m\n"
     ]
    }
   ],
   "source": [
    "! snakemake -call --dag | sed -n \"/digraph/,\\$p\" | dot -Tpng > dag_minimal.png"
   ]
  },
  {
   "cell_type": "code",
   "execution_count": 6,
   "id": "1a4af4831b0ac3b4",
   "metadata": {
    "ExecuteTime": {
     "end_time": "2025-10-10T21:26:31.227226Z",
     "start_time": "2025-10-10T21:26:31.203248Z"
    }
   },
   "outputs": [
    {
     "data": {
      "image/png": "[encoded data removed]",
      "text/plain": [
       "<IPython.core.display.Image object>"
      ]
     },
     "execution_count": 6,
     "metadata": {},
     "output_type": "execute_result"
    }
   ],
   "source": [
    "Image(\"dag_minimal.png\")"
   ]
  },
  {
   "cell_type": "markdown",
   "id": "29dd60fa",
   "metadata": {},
   "source": [
    "Rules that need to be executed will be presented as plain lines, while those that have already been executed will be presented as dotted lines. An alternative to the DAG is the `rulegraph`. This graph is typically less crowded as you will only visualize the dependency graph of rules. This representation is leaner than the DAG because rules are not repeated for wildcards."
   ]
  },
  {
   "cell_type": "code",
   "execution_count": 7,
   "id": "d54d6fa0",
   "metadata": {},
   "outputs": [
    {
     "name": "stdout",
     "output_type": "stream",
     "text": [
      "\u001b[33mBuilding DAG of jobs...\u001b[0m\n"
     ]
    }
   ],
   "source": [
    "! snakemake -call all --rulegraph | sed -n \"/digraph/,\\$p\" | dot -Tpng > rulegraph_minimal.png"
   ]
  },
  {
   "cell_type": "code",
   "execution_count": 8,
   "id": "253e9c2d",
   "metadata": {},
   "outputs": [
    {
     "data": {
      "image/png": "[encoded data removed]",
      "text/plain": [
       "<IPython.core.display.Image object>"
      ]
     },
     "execution_count": 8,
     "metadata": {},
     "output_type": "execute_result"
    }
   ],
   "source": [
    "Image(\"rulegraph_minimal.png\")"
   ]
  },
  {
   "cell_type": "markdown",
   "id": "99494ce7",
   "metadata": {},
   "source": [
    "As you can see, the `plot_benchmark` rule is only represented once.\n",
    "\n",
    "Alternatively, you can also visualize a `filegraph`, which is similar to the `rulegraph` but includes some information about the inputs and outputs to each of the rules."
   ]
  },
  {
   "cell_type": "code",
   "execution_count": 9,
   "id": "c1ec22d6",
   "metadata": {},
   "outputs": [
    {
     "name": "stdout",
     "output_type": "stream",
     "text": [
      "\u001b[33mBuilding DAG of jobs...\u001b[0m\n"
     ]
    }
   ],
   "source": [
    "! snakemake -call all --filegraph | sed -n \"/digraph/,\\$p\" | dot -Tsvg > filegraph_minimal.svg"
   ]
  },
  {
   "cell_type": "code",
   "execution_count": 10,
   "id": "72c99998a2f27173",
   "metadata": {},
   "outputs": [
    {
     "data": {
      "image/svg+xml": [
       "<svg xmlns=\"http://www.w3.org/2000/svg\" xmlns:xlink=\"http://www.w3.org/1999/xlink\" width=\"166pt\" height=\"888pt\" viewBox=\"0.00 0.00 166.00 888.00\">\n",
       "<g id=\"graph0\" class=\"graph\" transform=\"scale(1 1) rotate(0) translate(4 884.25)\">\n",
       "<title>snakemake_dag</title>\n",
       "<polygon fill=\"white\" stroke=\"none\" points=\"-4,4 -4,-884.25 162,-884.25 162,4 -4,4\"/>\n",
       "<!-- 0 -->\n",
       "<g id=\"node1\" class=\"node\">\n",
       "<title>0</title>\n",
       "<text xml:space=\"preserve\" text-anchor=\"start\" x=\"68.88\" y=\"-92.4\" font-family=\"sans\" font-weight=\"bold\" font-size=\"18.00\">all</text>\n",
       "<text xml:space=\"preserve\" text-anchor=\"start\" x=\"25\" y=\"-70.45\" font-family=\"sans\" font-size=\"10.00\"> </text>\n",
       "<text xml:space=\"preserve\" text-anchor=\"start\" x=\"28\" y=\"-70.45\" font-family=\"sans\" font-weight=\"bold\" font-size=\"14.00\">↪ input</text>\n",
       "<text xml:space=\"preserve\" text-anchor=\"start\" x=\"79\" y=\"-70.45\" font-family=\"sans\" font-size=\"10.00\"> </text>\n",
       "<text xml:space=\"preserve\" text-anchor=\"start\" x=\"25\" y=\"-48.25\" font-family=\"monospace\" font-size=\"10.00\">data/benchmark.pdf</text>\n",
       "<text xml:space=\"preserve\" text-anchor=\"start\" x=\"25\" y=\"-28.5\" font-family=\"monospace\" font-size=\"10.00\">data/benchmark.png</text>\n",
       "<text xml:space=\"preserve\" text-anchor=\"start\" x=\"127\" y=\"-8.75\" font-family=\"sans\" font-size=\"10.00\">  </text>\n",
       "<polygon fill=\"#d95757\" stroke=\"#d95757\" points=\"19,-86.75 19,-86.75 140,-86.75 140,-86.75 19,-86.75\"/>\n",
       "<polygon fill=\"#d95757\" stroke=\"#d95757\" points=\"19,-22.25 19,-22.25 140,-22.25 140,-22.25 19,-22.25\"/>\n",
       "<polygon fill=\"none\" stroke=\"#d95757\" stroke-width=\"2\" points=\"19,-1 19,-114.5 139,-114.5 139,-1 19,-1\"/>\n",
       "</g>\n",
       "<!-- 1 -->\n",
       "<g id=\"node2\" class=\"node\">\n",
       "<title>1</title>\n",
       "<text xml:space=\"preserve\" text-anchor=\"start\" x=\"9.62\" y=\"-250.65\" font-family=\"sans\" font-weight=\"bold\" font-size=\"18.00\">plot_benchmark</text>\n",
       "<text xml:space=\"preserve\" text-anchor=\"start\" x=\"7\" y=\"-228.7\" font-family=\"sans\" font-size=\"10.00\"> </text>\n",
       "<text xml:space=\"preserve\" text-anchor=\"start\" x=\"10\" y=\"-228.7\" font-family=\"sans\" font-weight=\"bold\" font-size=\"14.00\">↪ input</text>\n",
       "<text xml:space=\"preserve\" text-anchor=\"start\" x=\"61\" y=\"-228.7\" font-family=\"sans\" font-size=\"10.00\"> </text>\n",
       "<text xml:space=\"preserve\" text-anchor=\"start\" x=\"7\" y=\"-206.5\" font-family=\"monospace\" font-size=\"10.00\">data/base_2030_solved.nc</text>\n",
       "<text xml:space=\"preserve\" text-anchor=\"start\" x=\"85\" y=\"-183.95\" font-family=\"sans\" font-size=\"10.00\"> </text>\n",
       "<text xml:space=\"preserve\" text-anchor=\"start\" x=\"88\" y=\"-183.95\" font-family=\"sans\" font-weight=\"bold\" font-size=\"14.00\">output →</text>\n",
       "<text xml:space=\"preserve\" text-anchor=\"start\" x=\"148\" y=\"-183.95\" font-family=\"sans\" font-size=\"10.00\"> </text>\n",
       "<text xml:space=\"preserve\" text-anchor=\"start\" x=\"7\" y=\"-161.75\" font-family=\"monospace\" font-size=\"10.00\">data/benchmark.{ext}</text>\n",
       "<polygon fill=\"#add957\" stroke=\"#add957\" points=\"1,-245 1,-245 158,-245 158,-245 1,-245\"/>\n",
       "<polygon fill=\"#add957\" stroke=\"#add957\" points=\"1,-200.25 1,-200.25 158,-200.25 158,-200.25 1,-200.25\"/>\n",
       "<polygon fill=\"none\" stroke=\"#add957\" stroke-width=\"2\" points=\"1,-152.5 1,-272.75 157,-272.75 157,-152.5 1,-152.5\"/>\n",
       "</g>\n",
       "<!-- 1&#45;&gt;0 -->\n",
       "<g id=\"edge1\" class=\"edge\">\n",
       "<title>1-&gt;0</title>\n",
       "<path fill=\"none\" stroke=\"grey\" stroke-width=\"2\" d=\"M79,-151.64C79,-143.83 79,-135.78 79,-127.84\"/>\n",
       "<polygon fill=\"grey\" stroke=\"grey\" stroke-width=\"2\" points=\"82.5,-128.09 79,-118.09 75.5,-128.09 82.5,-128.09\"/>\n",
       "</g>\n",
       "<!-- 2 -->\n",
       "<g id=\"node3\" class=\"node\">\n",
       "<title>2</title>\n",
       "<text xml:space=\"preserve\" text-anchor=\"start\" x=\"16.75\" y=\"-408.9\" font-family=\"sans\" font-weight=\"bold\" font-size=\"18.00\">solve_network</text>\n",
       "<text xml:space=\"preserve\" text-anchor=\"start\" x=\"7\" y=\"-386.95\" font-family=\"sans\" font-size=\"10.00\"> </text>\n",
       "<text xml:space=\"preserve\" text-anchor=\"start\" x=\"10\" y=\"-386.95\" font-family=\"sans\" font-weight=\"bold\" font-size=\"14.00\">↪ input</text>\n",
       "<text xml:space=\"preserve\" text-anchor=\"start\" x=\"61\" y=\"-386.95\" font-family=\"sans\" font-size=\"10.00\"> </text>\n",
       "<text xml:space=\"preserve\" text-anchor=\"start\" x=\"7\" y=\"-364.75\" font-family=\"monospace\" font-size=\"10.00\">data/base_2030.nc</text>\n",
       "<text xml:space=\"preserve\" text-anchor=\"start\" x=\"85\" y=\"-342.2\" font-family=\"sans\" font-size=\"10.00\"> </text>\n",
       "<text xml:space=\"preserve\" text-anchor=\"start\" x=\"88\" y=\"-342.2\" font-family=\"sans\" font-weight=\"bold\" font-size=\"14.00\">output →</text>\n",
       "<text xml:space=\"preserve\" text-anchor=\"start\" x=\"148\" y=\"-342.2\" font-family=\"sans\" font-size=\"10.00\"> </text>\n",
       "<text xml:space=\"preserve\" text-anchor=\"start\" x=\"7\" y=\"-320\" font-family=\"monospace\" font-size=\"10.00\">data/base_2030_solved.nc</text>\n",
       "<polygon fill=\"#57add9\" stroke=\"#57add9\" points=\"1,-403.25 1,-403.25 158,-403.25 158,-403.25 1,-403.25\"/>\n",
       "<polygon fill=\"#57add9\" stroke=\"#57add9\" points=\"1,-358.5 1,-358.5 158,-358.5 158,-358.5 1,-358.5\"/>\n",
       "<polygon fill=\"none\" stroke=\"#57add9\" stroke-width=\"2\" points=\"1,-310.75 1,-431 157,-431 157,-310.75 1,-310.75\"/>\n",
       "</g>\n",
       "<!-- 2&#45;&gt;1 -->\n",
       "<g id=\"edge2\" class=\"edge\">\n",
       "<title>2-&gt;1</title>\n",
       "<path fill=\"none\" stroke=\"grey\" stroke-width=\"2\" d=\"M79,-309.91C79,-302.3 79,-294.45 79,-286.67\"/>\n",
       "<polygon fill=\"grey\" stroke=\"grey\" stroke-width=\"2\" points=\"82.5,-286.71 79,-276.71 75.5,-286.71 82.5,-286.71\"/>\n",
       "</g>\n",
       "<!-- 3 -->\n",
       "<g id=\"node4\" class=\"node\">\n",
       "<title>3</title>\n",
       "<text xml:space=\"preserve\" text-anchor=\"start\" x=\"7\" y=\"-567.15\" font-family=\"sans\" font-weight=\"bold\" font-size=\"18.00\">prepare_network</text>\n",
       "<text xml:space=\"preserve\" text-anchor=\"start\" x=\"7\" y=\"-545.2\" font-family=\"sans\" font-size=\"10.00\"> </text>\n",
       "<text xml:space=\"preserve\" text-anchor=\"start\" x=\"10\" y=\"-545.2\" font-family=\"sans\" font-weight=\"bold\" font-size=\"14.00\">↪ input</text>\n",
       "<text xml:space=\"preserve\" text-anchor=\"start\" x=\"61\" y=\"-545.2\" font-family=\"sans\" font-size=\"10.00\"> </text>\n",
       "<text xml:space=\"preserve\" text-anchor=\"start\" x=\"7\" y=\"-523\" font-family=\"monospace\" font-size=\"10.00\">data/data_filtered.csv</text>\n",
       "<text xml:space=\"preserve\" text-anchor=\"start\" x=\"85\" y=\"-500.45\" font-family=\"sans\" font-size=\"10.00\"> </text>\n",
       "<text xml:space=\"preserve\" text-anchor=\"start\" x=\"88\" y=\"-500.45\" font-family=\"sans\" font-weight=\"bold\" font-size=\"14.00\">output →</text>\n",
       "<text xml:space=\"preserve\" text-anchor=\"start\" x=\"148\" y=\"-500.45\" font-family=\"sans\" font-size=\"10.00\"> </text>\n",
       "<text xml:space=\"preserve\" text-anchor=\"start\" x=\"7\" y=\"-478.25\" font-family=\"monospace\" font-size=\"10.00\">data/base_2030.nc</text>\n",
       "<polygon fill=\"#57d957\" stroke=\"#57d957\" points=\"1,-561.5 1,-561.5 158,-561.5 158,-561.5 1,-561.5\"/>\n",
       "<polygon fill=\"#57d957\" stroke=\"#57d957\" points=\"1,-516.75 1,-516.75 158,-516.75 158,-516.75 1,-516.75\"/>\n",
       "<polygon fill=\"none\" stroke=\"#57d957\" stroke-width=\"2\" points=\"1,-469 1,-589.25 157,-589.25 157,-469 1,-469\"/>\n",
       "</g>\n",
       "<!-- 3&#45;&gt;2 -->\n",
       "<g id=\"edge3\" class=\"edge\">\n",
       "<title>3-&gt;2</title>\n",
       "<path fill=\"none\" stroke=\"grey\" stroke-width=\"2\" d=\"M79,-468.16C79,-460.55 79,-452.7 79,-444.92\"/>\n",
       "<polygon fill=\"grey\" stroke=\"grey\" stroke-width=\"2\" points=\"82.5,-444.96 79,-434.96 75.5,-444.96 82.5,-444.96\"/>\n",
       "</g>\n",
       "<!-- 4 -->\n",
       "<g id=\"node5\" class=\"node\">\n",
       "<title>4</title>\n",
       "<text xml:space=\"preserve\" text-anchor=\"start\" x=\"33.62\" y=\"-725.4\" font-family=\"sans\" font-weight=\"bold\" font-size=\"18.00\">build_data</text>\n",
       "<text xml:space=\"preserve\" text-anchor=\"start\" x=\"13\" y=\"-703.45\" font-family=\"sans\" font-size=\"10.00\"> </text>\n",
       "<text xml:space=\"preserve\" text-anchor=\"start\" x=\"16\" y=\"-703.45\" font-family=\"sans\" font-weight=\"bold\" font-size=\"14.00\">↪ input</text>\n",
       "<text xml:space=\"preserve\" text-anchor=\"start\" x=\"67\" y=\"-703.45\" font-family=\"sans\" font-size=\"10.00\"> </text>\n",
       "<text xml:space=\"preserve\" text-anchor=\"start\" x=\"13\" y=\"-681.25\" font-family=\"monospace\" font-size=\"10.00\">data/data_raw.csv</text>\n",
       "<text xml:space=\"preserve\" text-anchor=\"start\" x=\"79\" y=\"-658.7\" font-family=\"sans\" font-size=\"10.00\"> </text>\n",
       "<text xml:space=\"preserve\" text-anchor=\"start\" x=\"82\" y=\"-658.7\" font-family=\"sans\" font-weight=\"bold\" font-size=\"14.00\">output →</text>\n",
       "<text xml:space=\"preserve\" text-anchor=\"start\" x=\"142\" y=\"-658.7\" font-family=\"sans\" font-size=\"10.00\"> </text>\n",
       "<text xml:space=\"preserve\" text-anchor=\"start\" x=\"13\" y=\"-636.5\" font-family=\"monospace\" font-size=\"10.00\">data/data_filtered.csv</text>\n",
       "<polygon fill=\"#d9ad57\" stroke=\"#d9ad57\" points=\"7,-719.75 7,-719.75 152,-719.75 152,-719.75 7,-719.75\"/>\n",
       "<polygon fill=\"#d9ad57\" stroke=\"#d9ad57\" points=\"7,-675 7,-675 152,-675 152,-675 7,-675\"/>\n",
       "<polygon fill=\"none\" stroke=\"#d9ad57\" stroke-width=\"2\" points=\"7,-627.25 7,-747.5 151,-747.5 151,-627.25 7,-627.25\"/>\n",
       "</g>\n",
       "<!-- 4&#45;&gt;3 -->\n",
       "<g id=\"edge4\" class=\"edge\">\n",
       "<title>4-&gt;3</title>\n",
       "<path fill=\"none\" stroke=\"grey\" stroke-width=\"2\" d=\"M79,-626.41C79,-618.8 79,-610.95 79,-603.17\"/>\n",
       "<polygon fill=\"grey\" stroke=\"grey\" stroke-width=\"2\" points=\"82.5,-603.21 79,-593.21 75.5,-603.21 82.5,-603.21\"/>\n",
       "</g>\n",
       "<!-- 5 -->\n",
       "<g id=\"node6\" class=\"node\">\n",
       "<title>5</title>\n",
       "<text xml:space=\"preserve\" text-anchor=\"start\" x=\"23.88\" y=\"-857.15\" font-family=\"sans\" font-weight=\"bold\" font-size=\"18.00\">retrieve_data</text>\n",
       "<text xml:space=\"preserve\" text-anchor=\"start\" x=\"23.88\" y=\"-838\" font-family=\"sans\" font-size=\"10.00\">  </text>\n",
       "<text xml:space=\"preserve\" text-anchor=\"start\" x=\"68.12\" y=\"-816.95\" font-family=\"sans\" font-size=\"10.00\"> </text>\n",
       "<text xml:space=\"preserve\" text-anchor=\"start\" x=\"71.12\" y=\"-816.95\" font-family=\"sans\" font-weight=\"bold\" font-size=\"14.00\">output →</text>\n",
       "<text xml:space=\"preserve\" text-anchor=\"start\" x=\"131.12\" y=\"-816.95\" font-family=\"sans\" font-size=\"10.00\"> </text>\n",
       "<text xml:space=\"preserve\" text-anchor=\"start\" x=\"23.88\" y=\"-794.75\" font-family=\"monospace\" font-size=\"10.00\">data/data_raw.csv</text>\n",
       "<polygon fill=\"#57d9ad\" stroke=\"#57d9ad\" points=\"17.88,-851.5 17.88,-851.5 141.12,-851.5 141.12,-851.5 17.88,-851.5\"/>\n",
       "<polygon fill=\"#57d9ad\" stroke=\"#57d9ad\" points=\"17.88,-833.25 17.88,-833.25 141.12,-833.25 141.12,-833.25 17.88,-833.25\"/>\n",
       "<polygon fill=\"none\" stroke=\"#57d9ad\" stroke-width=\"2\" points=\"17.88,-785.5 17.88,-879.25 140.12,-879.25 140.12,-785.5 17.88,-785.5\"/>\n",
       "</g>\n",
       "<!-- 5&#45;&gt;4 -->\n",
       "<g id=\"edge5\" class=\"edge\">\n",
       "<title>5-&gt;4</title>\n",
       "<path fill=\"none\" stroke=\"grey\" stroke-width=\"2\" d=\"M79,-784.55C79,-777.05 79,-769.14 79,-761.2\"/>\n",
       "<polygon fill=\"grey\" stroke=\"grey\" stroke-width=\"2\" points=\"82.5,-761.37 79,-751.37 75.5,-761.37 82.5,-761.37\"/>\n",
       "</g>\n",
       "</g>\n",
       "</svg>"
      ],
      "text/plain": [
       "<IPython.core.display.SVG object>"
      ]
     },
     "execution_count": 10,
     "metadata": {},
     "output_type": "execute_result"
    }
   ],
   "source": [
    "SVG(\"filegraph_minimal.svg\")"
   ]
  },
  {
   "cell_type": "markdown",
   "id": "cc74c230",
   "metadata": {},
   "source": [
    "## Task 1: Executing a workflow with Snakemake\n",
    "\n",
    "**a)** For our minimal example, execute a `dry-run` to produce the intermediate file `data/base_2030.nc`.\n",
    "\n",
    "**b)** Execute the entire workflow and investigate what happens if you try to execute the workflow again.\n",
    "\n",
    "**c)** Delete the final output file `data/benchmark.pdf` and investigate what happens if you try to execute the workflow again.\n",
    "\n",
    "**d)** Change a value in the raw input data file `data/data_raw.csv` and save it again, overwriting the original file. Investigate what happens if you try to execute the workflow again.\n",
    "\n",
    "Hint: You can also just `touch` the file by executing `Path(\"data/data_raw.csv\").touch()`. This will mimic a file edit.\n",
    "\n",
    "**e)** (Optional) Open the `Snakefile` and add a second rule that processes the file `data_raw_2.csv` using the same script as the `build_data` rule. Add the output of this new rule as a second input to the `prepare_network` rule."
   ]
  },
  {
   "cell_type": "code",
   "execution_count": 11,
   "id": "fec0ad1f",
   "metadata": {},
   "outputs": [],
   "source": [
    "# Your solution a)"
   ]
  },
  {
   "cell_type": "code",
   "execution_count": 12,
   "id": "cfa7c13c",
   "metadata": {},
   "outputs": [],
   "source": [
    "# Your solution b)"
   ]
  },
  {
   "cell_type": "code",
   "execution_count": 13,
   "id": "6b8d5cf9",
   "metadata": {},
   "outputs": [],
   "source": [
    "# Your solution c)"
   ]
  },
  {
   "cell_type": "code",
   "execution_count": 14,
   "id": "ac995bb3",
   "metadata": {},
   "outputs": [],
   "source": [
    "# Your solution d)"
   ]
  },
  {
   "cell_type": "code",
   "execution_count": 15,
   "id": "4f55b510",
   "metadata": {},
   "outputs": [],
   "source": [
    "# Your solution e)"
   ]
  },
  {
   "cell_type": "markdown",
   "id": "78fc1a64ecb68ac3",
   "metadata": {},
   "source": [
    "## Discover Open-TYNDP file structure"
   ]
  },
  {
   "cell_type": "markdown",
   "id": "759df1ccb8f8f179",
   "metadata": {},
   "source": [
    "We have already retrieved a prebuilt version of the `open-tyndp` GitHub repository into our working directory. This folder contains a run of Open-TYNDP for NT and DE scenarios, with 2030 and 2040 as planning horizons. We removed the atlite cutout from the archive and compressed the archive using `zip -r open-tyndp.zip .`."
   ]
  },
  {
   "cell_type": "markdown",
   "id": "70b5b10c",
   "metadata": {},
   "source": [
    "The `open-tyndp` repository contains the following structure. Directories of particular interest are marked in bold:"
   ]
  },
  {
   "cell_type": "markdown",
   "id": "ea24d976",
   "metadata": {},
   "source": [
    "- **benchmarks**: will store Snakemake benchmarks (does not exist initially)\n",
    "- **config**: configurations used in the study\n",
    "- cutouts: will store raw weather data cutouts from atlite (does not exist initially)\n",
    "- **data**: includes input data that is not produced by any Snakemake rule. Various different input files are retrieved from external storage and stored in this directory\n",
    "- doc: includes all files necessary to build the readthedocs documentation of PyPSA-Eur\n",
    "- **envs**: includes all the mamba environment specifications to run the workflow\n",
    "- logs: will store log files (does not exist initially)\n",
    "- notebooks: includes all the notebooks used for ad-hoc analysis\n",
    "- report: contains all files necessary to build the report; plots and result files are generated automatically\n",
    "- **rules**: includes all the Snakemake rules loaded in the Snakefile\n",
    "- **resources**: will store intermediate results of the workflow which can be picked up again by subsequent rules (does not exist initially)\n",
    "- **results**: will store the solved PyPSA network data, summary files and output plots (does not exist initially)\n",
    "- **scripts**: includes all the Python scripts executed by the Snakemake rules to build the model"
   ]
  },
  {
   "cell_type": "markdown",
   "id": "78bc2c6b",
   "metadata": {},
   "source": [
    "## Task 2: Explore the folder\n",
    "\n",
    "**a)** Can you find the TYNDP specific data input files?\n",
    "\n",
    "**b)** Where can you verify the scenario and planning horizons used to produce the current results?\n",
    "\n",
    "Hint: Search for `config.tyndp.yaml`.\n",
    "\n",
    "**c)** Can you find the hydrogen grid map in the output files for the NT scenario in 2040?\n",
    "\n",
    "Hint: Search for `base_s_all__-h2_network_2040.pdf`."
   ]
  },
  {
   "cell_type": "code",
   "execution_count": 16,
   "id": "ddd0f7b8",
   "metadata": {},
   "outputs": [],
   "source": [
    "# Your solution a)"
   ]
  },
  {
   "cell_type": "code",
   "execution_count": 17,
   "id": "69c66a3e",
   "metadata": {},
   "outputs": [],
   "source": [
    "# Your solution b)"
   ]
  },
  {
   "cell_type": "code",
   "execution_count": 18,
   "id": "68f2c9de",
   "metadata": {},
   "outputs": [],
   "source": [
    "# Your solution c)"
   ]
  },
  {
   "cell_type": "markdown",
   "id": "25a59104",
   "metadata": {},
   "source": [
    "## Using Snakemake to launch the Open-TYNDP workflow"
   ]
  },
  {
   "cell_type": "markdown",
   "id": "a29b1200c02ce786",
   "metadata": {},
   "source": [
    "We now need to change our working directory to the Open-TYNDP directory we previously retrieved."
   ]
  },
  {
   "cell_type": "code",
   "execution_count": 19,
   "id": "f190d685184837b4",
   "metadata": {},
   "outputs": [],
   "source": [
    "os.chdir(\"data/open-tyndp\")"
   ]
  },
  {
   "cell_type": "markdown",
   "id": "affb46cc",
   "metadata": {},
   "source": [
    "Be aware that to run the previous section of this notebook, you will need to restore the default working directory using `os.chdir(\"../../\")`.\n",
    "\n",
    "Let's check that we are indeed in the new directory now:"
   ]
  },
  {
   "cell_type": "code",
   "execution_count": 20,
   "id": "4db99e626b8b0309",
   "metadata": {},
   "outputs": [
    {
     "data": {
      "text/plain": [
       "'/Users/daniel/Desktop/Work/OET/Projects/open-tyndp/code/open-tyndp-workshops/open-tyndp-workshops/data/open-tyndp'"
      ]
     },
     "execution_count": 20,
     "metadata": {},
     "output_type": "execute_result"
    }
   ],
   "source": [
    "os.getcwd()"
   ]
  },
  {
   "cell_type": "markdown",
   "id": "ac7e3e50",
   "metadata": {},
   "source": [
    "We can now use Snakemake to call some of the rules to produce outputs with the `open-tyndp` PyPSA model. \n",
    "\n",
    "We will use the prepared TYNDP configuration file (`config/config.tyndp.yaml`) and schedule a dry-run with `-n` as we only want to investigate the DAG of the workflow:"
   ]
  },
  {
   "cell_type": "code",
   "execution_count": null,
   "id": "a547c6f4a2d82607",
   "metadata": {},
   "outputs": [
    {
     "name": "stdout",
     "output_type": "stream",
     "text": [
      "Set parameter Username\n",
      "Academic license - for non-commercial use only - expires 2026-04-14\n",
      "\u001b[33mhost: Mac.home\u001b[0m\n",
      "\u001b[33mBuilding DAG of jobs...\u001b[0m\n",
      "\u001b[33mNothing to be done (all requested files are present and up to date).\u001b[0m\n"
     ]
    }
   ],
   "source": [
    "! snakemake -call --configfile config/config.tyndp.yaml -n"
   ]
  },
  {
   "cell_type": "markdown",
   "id": "561132a0",
   "metadata": {},
   "source": [
    "As you can see, there is nothing to be done. However, we can still explore the set of rules defined in the `Snakefile` and the other `.smk` files. First, we can plot the rule graph, then the full DAG.\n",
    "\n",
    "The corresponding rule graph to this workflow will look like this:"
   ]
  },
  {
   "cell_type": "code",
   "execution_count": null,
   "id": "33f4913b",
   "metadata": {},
   "outputs": [],
   "source": [
    "! snakemake -call --configfile config/config.tyndp.yaml --rulegraph | sed -n \"/digraph/,\\$p\" | dot -Tpng > rulegraph_open_tyndp.png"
   ]
  },
  {
   "cell_type": "code",
   "execution_count": null,
   "id": "4749ee23",
   "metadata": {},
   "outputs": [],
   "source": [
    "Image(\"rulegraph_open_tyndp.png\")"
   ]
  },
  {
   "cell_type": "markdown",
   "id": "3685f3bc",
   "metadata": {},
   "source": [
    "The corresponding DAG to this workflow will look like this:"
   ]
  },
  {
   "cell_type": "code",
   "execution_count": null,
   "id": "fff1f73b",
   "metadata": {},
   "outputs": [],
   "source": [
    "! snakemake -call --configfile config/config.tyndp.yaml --dag | sed -n \"/digraph/,\\$p\" | dot -Tpng > dag_open_tyndp.png"
   ]
  },
  {
   "cell_type": "code",
   "execution_count": null,
   "id": "9fac6ea7",
   "metadata": {},
   "outputs": [],
   "source": [
    "Image(\"dag_open_tyndp.png\")"
   ]
  },
  {
   "cell_type": "markdown",
   "id": "d009cc9b",
   "metadata": {},
   "source": [
    "As you can see, this workflow is much more complex than our minimal example from the beginning. Since we already executed the entire workflow for this demonstration, all the rules are presented as dotted lines in the DAG.\n",
    "\n",
    "You will also notice that the DAG is much larger than the rule graph. This is because Open-TYNDP leverages wildcards quite extensively to generalize rule definitions and to parallelize tasks.\n",
    "\n",
    "Nevertheless, the general idea remains the same. We retrieve data which we consequently process, then we prepare the model network and we solve it before we postprocess the results (summary, plotting, benchmarks)."
   ]
  },
  {
   "cell_type": "markdown",
   "id": "9d0bcb21af782ebd",
   "metadata": {},
   "source": [
    "## Triggering a workflow run on Open-TYNDP\n",
    "\n",
    "Let's now simulate the end of an optimization with the network (`base_s_all___2040.nc`) file being written as the last step."
   ]
  },
  {
   "cell_type": "code",
   "execution_count": null,
   "id": "451d4d95",
   "metadata": {},
   "outputs": [],
   "source": [
    "Path(\"results/tyndp/NT/networks/base_s_all___2040.nc\").touch()"
   ]
  },
  {
   "cell_type": "markdown",
   "id": "67377971",
   "metadata": {},
   "source": [
    "We can now see that Snakemake triggers all the rules that depend on the solved network. In this case, these are all the postprocessing rules."
   ]
  },
  {
   "cell_type": "code",
   "execution_count": null,
   "id": "d7930fb0",
   "metadata": {},
   "outputs": [],
   "source": [
    "! snakemake -call --configfile config/config.tyndp.yaml -n"
   ]
  },
  {
   "cell_type": "markdown",
   "id": "2b4aaf85",
   "metadata": {},
   "source": [
    ":::{note}\n",
    "Because of the complexity of the workflow, we are not executing this. However, if you are running this notebook on your local machine, you can also use the `conda` package manager to install the `pypsa-eur` environment and run the workflow instead of dry-runs:\n",
    "```\n",
    "conda env create --file envs/<YourSystemOS>.lock.yaml\n",
    "```\n",
    ":::"
   ]
  },
  {
   "cell_type": "markdown",
   "id": "240f5e7d",
   "metadata": {},
   "source": [
    "# Update on new features"
   ]
  },
  {
   "cell_type": "markdown",
   "id": "19d279af",
   "metadata": {},
   "source": [
    "For the purposes of this workshop, we will primarily focus on the 2030 NT scenario and the 2040 DE scenario. Four major features were introduced since our last workshop:\n",
    "1. Addition of the electricity demand and PECD capacity factors time series,\n",
    "2. Addition of onshore wind and solar TYNDP technologies (incl. PEMMDB existing capacities and trajectories),\n",
    "3. Addition of offshore hubs (incl. the offshore topology, all associated technologies, potential constraints and trajectories),\n",
    "4. Addition of hydrogen import corridors."
   ]
  },
  {
   "cell_type": "markdown",
   "id": "b60f0668",
   "metadata": {},
   "source": [
    "The Open-TYNDP data we retrieved contains networks with low time resolution (6H). This is illustrative; however, since we are focusing on time series, we will use another network with hourly resolution. We will import this pre-solved network for NT 2030."
   ]
  },
  {
   "cell_type": "code",
   "execution_count": null,
   "id": "f2079eb8",
   "metadata": {},
   "outputs": [],
   "source": [
    "n_NT_2030h = pypsa.Network(\"../network_NT_presolve_highres_2030.nc\")"
   ]
  },
  {
   "cell_type": "markdown",
   "id": "3333d214",
   "metadata": {},
   "source": [
    "## Electricity demand profiles"
   ]
  },
  {
   "cell_type": "markdown",
   "id": "80b52e94",
   "metadata": {},
   "source": [
    "We can then explore the electricity demand profiles that are attached to the network. Can you remember how to access time-varying attributes of components in PyPSA?"
   ]
  },
  {
   "cell_type": "code",
   "execution_count": null,
   "id": "95d3ae39",
   "metadata": {
    "tags": [
     "hide-cell"
    ]
   },
   "outputs": [],
   "source": [
    "loads_2030 = n_NT_2030h.loads_t.p_set\n",
    "loads_2030.head()"
   ]
  },
  {
   "cell_type": "markdown",
   "id": "05458163",
   "metadata": {},
   "source": [
    "Let's plot the electricity demand time series:"
   ]
  },
  {
   "cell_type": "code",
   "execution_count": null,
   "id": "85992bcd",
   "metadata": {},
   "outputs": [],
   "source": [
    "fig, ax = plt.subplots()\n",
    "loads_2030.div(1e3).plot(\n",
    "    xlabel=\"Time\",\n",
    "    ylabel=\"Load [GW]\",\n",
    "    title=\"Electricity Load Time Series - NT - 2030\",\n",
    "    grid=True,\n",
    "    ax=ax,\n",
    ")\n",
    "\n",
    "ax.legend(loc=\"upper center\", bbox_to_anchor=(0.5, -0.15), ncols=10)\n",
    "ax.grid(True, linestyle=\"--\");"
   ]
  },
  {
   "cell_type": "markdown",
   "id": "5cdd854e",
   "metadata": {},
   "source": [
    "This is very overwhelming to look at. Let's filter that down a bit..."
   ]
  },
  {
   "cell_type": "code",
   "execution_count": null,
   "id": "31bfe14f",
   "metadata": {},
   "outputs": [],
   "source": [
    "# Group country profiles together and select a week\n",
    "country_mapping = n_NT_2030h.buses.query(\"carrier=='AC'\").country\n",
    "loads_2030_by_country = (\n",
    "    n_NT_2030h.loads_t.p_set.T.rename(country_mapping, axis=0)\n",
    "    .groupby(\"Load\")\n",
    "    .sum()\n",
    "    .T.loc[\"2009-03-01\":\"2009-03-07\", [\"FR\", \"DE\", \"GB\"]]\n",
    ")\n",
    "\n",
    "# Create the plot\n",
    "fig, ax = plt.subplots()\n",
    "loads_2030_by_country.div(1e3).plot(\n",
    "    xlabel=\"Time\",\n",
    "    ylabel=\"Load [GW]\",\n",
    "    title=\"Electricity Load Time Series - NT - 2030\",\n",
    "    ax=ax,\n",
    ")\n",
    "\n",
    "ax.grid(True, linestyle=\"--\")\n",
    "ax.legend();"
   ]
  },
  {
   "cell_type": "markdown",
   "id": "90e32485",
   "metadata": {},
   "source": [
    "As you might remember, we can also use the **PyPSA Statistics** module that we introduced in the last workshop to interactively visualize these electricity demand inputs from the network. For this to work, we need a solved network.\n",
    "\n",
    "Let's load our pre-solved networks, so we can use the statistics module to analyze it."
   ]
  },
  {
   "cell_type": "code",
   "execution_count": null,
   "id": "7181673d",
   "metadata": {},
   "outputs": [],
   "source": [
    "# Import networks\n",
    "n_NT_2030 = pypsa.Network(\"results/tyndp/NT/networks/base_s_all___2030.nc\")\n",
    "n_DE_2040 = pypsa.Network(\"results/tyndp/DE/networks/base_s_all___2040.nc\")\n",
    "\n",
    "# Fix missing colors\n",
    "n_NT_2030.carriers.loc[\"none\", \"color\"] = \"#000000\"\n",
    "n_NT_2030.carriers.loc[\"\", \"color\"] = \"#000000\"\n",
    "n_DE_2040.carriers.loc[\"none\", \"color\"] = \"#000000\"\n",
    "n_DE_2040.carriers.loc[\"\", \"color\"] = \"#000000\""
   ]
  },
  {
   "cell_type": "code",
   "execution_count": null,
   "id": "02b9c885",
   "metadata": {},
   "outputs": [],
   "source": [
    "# Let's define helper variables\n",
    "s_NT_2030 = n_NT_2030.statistics\n",
    "s_DE_2040 = n_DE_2040.statistics"
   ]
  },
  {
   "cell_type": "markdown",
   "id": "1e1d1658",
   "metadata": {},
   "source": [
    "Let's access the load data using `statistics.withdrawal()`. The electricity load is attached to the `low voltage` buses."
   ]
  },
  {
   "cell_type": "code",
   "execution_count": null,
   "id": "4952e155",
   "metadata": {},
   "outputs": [],
   "source": [
    "s_NT_2030.withdrawal(\n",
    "    bus_carrier=\"low voltage\", comps=\"Load\", aggregate_time=False, groupby=False\n",
    ").T.head()"
   ]
  },
  {
   "cell_type": "markdown",
   "id": "41247bcd",
   "metadata": {},
   "source": [
    "As previously, we can plot all the countries at the same time, but now using the `statistics` module..."
   ]
  },
  {
   "cell_type": "code",
   "execution_count": null,
   "id": "957d953b",
   "metadata": {},
   "outputs": [],
   "source": [
    "fig, ax, facet_grid = s_NT_2030.withdrawal.plot.line(\n",
    "    bus_carrier=\"low voltage\",\n",
    "    y=\"value\",\n",
    "    x=\"snapshot\",\n",
    "    color=\"country\",\n",
    ")\n",
    "\n",
    "fig.set_size_inches(14, 7)\n",
    "fig.suptitle(\"Electricity demand Time Series - NT - 2030\", y=1.05)\n",
    "\n",
    "ax.set_ylabel(\"Load [MW]\")\n",
    "ax.set_xlabel(\"Time\");"
   ]
  },
  {
   "cell_type": "markdown",
   "id": "d1d173ee",
   "metadata": {},
   "source": [
    "However, plotting individual countries is now easier. Let's present two countries."
   ]
  },
  {
   "cell_type": "code",
   "execution_count": null,
   "id": "f9a4a6c0",
   "metadata": {},
   "outputs": [],
   "source": [
    "fig, ax, facet_col = s_NT_2030.withdrawal.plot.area(\n",
    "    bus_carrier=\"low voltage\",\n",
    "    y=\"value\",\n",
    "    x=\"snapshot\",\n",
    "    color=\"carrier\",\n",
    "    stacked=True,\n",
    "    facet_row=\"country\",\n",
    "    query=\"carrier == 'electricity' and country in ['DE', 'FR']\",\n",
    "    figsize=(14, 7),\n",
    ")\n",
    "\n",
    "fig.suptitle(\"Electricity demand Time Series - NT - 2030\", y=1.05)\n",
    "\n",
    "ax[0, 0].set_ylabel(\"Load [MW]\")\n",
    "ax[1, 0].set_ylabel(\"Load [MW]\")\n",
    "ax[1, 0].set_xlabel(\"Time\");"
   ]
  },
  {
   "cell_type": "markdown",
   "id": "5e2f502e",
   "metadata": {},
   "source": [
    "As you can see, the statistics module is a powerful tool to explore your results. You can find more information about it in the [first workshop notebook](20250409-workshop-pypsa-01.ipynb#extracting-insights-visualization) and in the official [PyPSA documentation](https://docs.pypsa.org/latest/user-guide/plotting/charts/)."
   ]
  },
  {
   "cell_type": "markdown",
   "id": "b93a51e6",
   "metadata": {},
   "source": [
    "## PECD capacity factors"
   ]
  },
  {
   "cell_type": "markdown",
   "id": "2acd585d",
   "metadata": {},
   "source": [
    "The Pan-European Climate Database (PECD) provides capacity factor profiles for all the different renewable technologies used in the TYNDP. We processed these input data files into a Python and PyPSA friendly input format.\n",
    "\n",
    "Let's start by looking at the processed capacity factor time series for Solar PV Rooftop for 2030. These processed data are stored in the `resources` directory, as they are an output of `build_renewable_profiles_pecd`. We will filter the data to a set of countries and a week."
   ]
  },
  {
   "cell_type": "code",
   "execution_count": null,
   "id": "db551850",
   "metadata": {},
   "outputs": [],
   "source": [
    "cf_pv_rftp = pd.read_csv(\n",
    "    \"resources/tyndp/NT/pecd_data_LFSolarPVRooftop_2030.csv\",\n",
    "    index_col=0,\n",
    "    parse_dates=True,\n",
    ").loc[\"2009-07-01\":\"2009-07-04\", [\"SE04\", \"DE00\", \"FR00\", \"ES00\"]]\n",
    "cf_pv_rftp.head(10)"
   ]
  },
  {
   "cell_type": "markdown",
   "id": "0c853fb2",
   "metadata": {},
   "source": [
    "Using a heatmap, we can better grasp the content of the data."
   ]
  },
  {
   "cell_type": "code",
   "execution_count": null,
   "id": "f0947d0e",
   "metadata": {},
   "outputs": [],
   "source": [
    "fig, ax = plt.subplots()\n",
    "sns.heatmap(cf_pv_rftp.T, cmap=\"viridis\", cbar_kws={\"label\": \"Capacity Factor\"}, ax=ax)\n",
    "\n",
    "ax.set_title(\"Capacity Factor Time Series - NT - 2030 - March 1-4\")\n",
    "tick_positions = range(0, len(cf_pv_rftp), 24)\n",
    "ax.set_xticks(tick_positions)\n",
    "ax.set_xticklabels(\n",
    "    cf_pv_rftp.index[tick_positions].strftime(\"%Y-%m-%d\"), rotation=45, ha=\"right\"\n",
    ")\n",
    "\n",
    "ax.set_xlabel(\"Time\")\n",
    "ax.set_ylabel(\"Node\");"
   ]
  },
  {
   "cell_type": "markdown",
   "id": "f73476ae",
   "metadata": {},
   "source": [
    "We can also present the data in a line plot."
   ]
  },
  {
   "cell_type": "code",
   "execution_count": null,
   "id": "6c4c327b",
   "metadata": {},
   "outputs": [],
   "source": [
    "fig, ax = plt.subplots()\n",
    "\n",
    "cf_pv_rftp.plot(\n",
    "    title=\"Capacity Factor Time Series - NT - 2030 - March 1-4\",\n",
    "    xlabel=\"Date\",\n",
    "    ylabel=\"Capacity Factor\",\n",
    "    ax=ax,\n",
    ");"
   ]
  },
  {
   "cell_type": "markdown",
   "id": "7785fc1f",
   "metadata": {},
   "source": [
    "## Task 3: Compute average capacity factor\n",
    "\n",
    "**a)** Locate the resource file with onshore wind capacity factors used for NT in 2030.\n",
    "\n",
    "**b)** Compute the average onshore wind capacity factor for all the countries in the PECD.\n",
    "\n",
    "**c)** Verify one of the values directly in the network.\n",
    "\n",
    "Hint: Capacity factors are defined as time-varying parameters of generators and are called `p_max_pu`."
   ]
  },
  {
   "cell_type": "code",
   "execution_count": null,
   "id": "bbf324fe",
   "metadata": {},
   "outputs": [],
   "source": [
    "# Your solution a)"
   ]
  },
  {
   "cell_type": "code",
   "execution_count": null,
   "id": "572e5fc1",
   "metadata": {},
   "outputs": [],
   "source": [
    "# Your solution b)"
   ]
  },
  {
   "cell_type": "code",
   "execution_count": null,
   "id": "70669dbc",
   "metadata": {},
   "outputs": [],
   "source": [
    "# Your solution c)"
   ]
  },
  {
   "cell_type": "markdown",
   "id": "aad8ea68",
   "metadata": {},
   "source": [
    "## Onshore wind and solar"
   ]
  },
  {
   "cell_type": "markdown",
   "id": "6ff4066e",
   "metadata": {},
   "source": [
    "The TYNDP provides existing capacities with the Pan-European Market Modelling database (PEMMDB) and expansion trajectories for given investment candidates and expandable technologies. For the implemented onshore wind and solar technologies, these have been included in beta release v0.3 of the Open-TYNDP model.\n",
    "\n",
    "It is possible to retrieve those values from the networks as they are added as `p_nom_min` and `p_nom_max` of the generators. However, for simplicity, we will import the values directly from the processed input files for the DE scenario. This allows us to investigate the entire trajectory path at once instead of reading one network per planning horizon."
   ]
  },
  {
   "cell_type": "code",
   "execution_count": null,
   "id": "a651700d",
   "metadata": {},
   "outputs": [],
   "source": [
    "trj = pd.read_csv(\"resources/tyndp/DE/tyndp_trajectories.csv\", index_col=0)\n",
    "trj.head()"
   ]
  },
  {
   "cell_type": "markdown",
   "id": "28cbceb0",
   "metadata": {},
   "source": [
    "Similar to the capacity factor time series, we want to focus on the Solar PV Rooftop technology and its trajectory path. Let's take Germany (DE00) to investigate."
   ]
  },
  {
   "cell_type": "code",
   "execution_count": null,
   "id": "19b984f5",
   "metadata": {},
   "outputs": [],
   "source": [
    "trj_pv_rftp_de = (\n",
    "    trj.query(\"carrier == 'solar-pv-rooftop' and bus == 'DE00'\")\n",
    "    .sort_values(by=\"pyear\")\n",
    "    .set_index(\"pyear\")[[\"p_nom_min\", \"p_nom_max\"]]\n",
    "    .div(1e3)  # GW\n",
    ")\n",
    "trj_pv_rftp_de"
   ]
  },
  {
   "cell_type": "markdown",
   "id": "14037d42",
   "metadata": {},
   "source": [
    "Now that we have collected the data, we can create a nice visualization of it."
   ]
  },
  {
   "cell_type": "code",
   "execution_count": null,
   "id": "4f8e1844",
   "metadata": {},
   "outputs": [],
   "source": [
    "fig, ax = plt.subplots()\n",
    "trj_pv_rftp_de.plot(\n",
    "    title=\"Solar PV Rooftop Capacity Trajectories - DE scenario - DE00\",\n",
    "    xlabel=\"Planning Year\",\n",
    "    ylabel=\"Capacity [GW]\",\n",
    "    color=[\"#E63946\", \"#1D3557\"],\n",
    "    style=\"*--\",\n",
    "    ax=ax,\n",
    ")\n",
    "\n",
    "ax.fill_between(\n",
    "    trj_pv_rftp_de.index,\n",
    "    trj_pv_rftp_de.iloc[:, 0],\n",
    "    trj_pv_rftp_de.iloc[:, 1],\n",
    "    alpha=0.25,\n",
    "    color=\"#457B9D\",\n",
    "    label=\"Trajectory Range\",\n",
    ")\n",
    "\n",
    "ax.xaxis.set_major_locator(MultipleLocator(5))"
   ]
  },
  {
   "cell_type": "markdown",
   "id": "8d957d3c",
   "metadata": {},
   "source": [
    "Now, let's access the network for the DE scenario to compare one of these trajectory values for 2040."
   ]
  },
  {
   "cell_type": "code",
   "execution_count": null,
   "id": "567331da",
   "metadata": {},
   "outputs": [],
   "source": [
    "trj_pv_rftp_de_nc = (\n",
    "    n_DE_2040.generators.query(\"carrier == 'solar-pv-rooftop' and bus == 'DE00'\")\n",
    "    .sort_index()[[\"p_nom_opt\", \"p_nom_min\", \"p_nom_max\"]]\n",
    "    .div(1e3)  # in GW\n",
    ")\n",
    "trj_pv_rftp_de_nc"
   ]
  },
  {
   "cell_type": "markdown",
   "id": "72a3c693",
   "metadata": {},
   "source": [
    "As we can see, the `p_nom_min` and `p_nom_max` values for 2040 do not match the reported trajectory values above. The TYNDP trajectories are cumulative trajectories. This means that 2040 generators are bound to extend the optimization results of 2030.\n",
    "\n",
    "Therefore, if we add the existing capacity (`p_nom_opt`) from 2030 to the `p_nom_min` and `p_nom_max` values from 2040, we will obtain the reported trajectory values shown above:"
   ]
  },
  {
   "cell_type": "code",
   "execution_count": null,
   "id": "e0899d25",
   "metadata": {},
   "outputs": [],
   "source": [
    "(\n",
    "    trj_pv_rftp_de_nc.loc[\"DE00 0 solar-pv-rooftop-2040\", [\"p_nom_min\", \"p_nom_max\"]]\n",
    "    + trj_pv_rftp_de_nc.loc[\"DE00 0 solar-pv-rooftop-2030\", \"p_nom_opt\"]\n",
    ")"
   ]
  },
  {
   "cell_type": "markdown",
   "id": "49f0d930",
   "metadata": {},
   "source": [
    "## Task 4: Verify onshore wind trajectories\n",
    "\n",
    "Verify onshore wind trajectories in the network itself. \n",
    "\n",
    "Hint: This can be quick if you can copy and reuse the existing code used above."
   ]
  },
  {
   "cell_type": "code",
   "execution_count": null,
   "id": "4ccef502",
   "metadata": {},
   "outputs": [],
   "source": [
    "# Your solution"
   ]
  },
  {
   "cell_type": "markdown",
   "id": "9f5d366c",
   "metadata": {},
   "source": [
    "## Offshore Hubs"
   ]
  },
  {
   "cell_type": "markdown",
   "id": "705131c2",
   "metadata": {},
   "source": [
    "To implement the offshore methodology, new carriers (*i.e.*, technologies) are introduced. All the offshore technologies start with `offwind`."
   ]
  },
  {
   "cell_type": "code",
   "execution_count": null,
   "id": "90d46b43",
   "metadata": {},
   "outputs": [],
   "source": [
    "offwind_carriers = n_NT_2030.carriers.query(\"Carrier.str.contains('offwind')\")\n",
    "offwind_carriers_i = offwind_carriers.index\n",
    "offwind_carriers"
   ]
  },
  {
   "cell_type": "markdown",
   "id": "585d7896",
   "metadata": {},
   "source": [
    "As you can see in the table above, all the offshore technologies are implemented. We model technologies that are a combination of the following:\n",
    "- both `ac` and `dc` zones, as well as `h2` generating windfarms;\n",
    "- both fixed-bottom (`fb`) and floating (`fl`) foundations;\n",
    "- both radial (`r`) and hub (`oh`) connections."
   ]
  },
  {
   "cell_type": "markdown",
   "id": "ebf4935d",
   "metadata": {},
   "source": [
    "We also introduce new offshore buses, both for electricity and hydrogen. Electricity buses use `AC_OH` as the carrier, while hydrogen buses use `H2_OH`."
   ]
  },
  {
   "cell_type": "code",
   "execution_count": null,
   "id": "6c1ea60c",
   "metadata": {},
   "outputs": [],
   "source": [
    "n_NT_2030.buses.query(\"carrier.str.contains('OH')\").head()"
   ]
  },
  {
   "cell_type": "markdown",
   "id": "940bb32a",
   "metadata": {},
   "source": [
    "Let's narrow down this list to a single country."
   ]
  },
  {
   "cell_type": "code",
   "execution_count": null,
   "id": "1edd71d8",
   "metadata": {},
   "outputs": [],
   "source": [
    "buses = n_NT_2030.buses.query(\"carrier.str.contains('OH') and country=='BE'\")\n",
    "buses_i = buses.index\n",
    "buses"
   ]
  },
  {
   "cell_type": "markdown",
   "id": "3d2b3577",
   "metadata": {},
   "source": [
    "Using `n.plot.explore()`, we can easily get an overview of the network topology. Let's clean the network before exploring it to only focus on the electrical offshore topology."
   ]
  },
  {
   "cell_type": "code",
   "execution_count": null,
   "id": "2bb486c6",
   "metadata": {},
   "outputs": [],
   "source": [
    "n_explore_ac_oh = n_NT_2030.copy()\n",
    "n_explore_ac_oh.remove(\n",
    "    \"Bus\", n_explore_ac_oh.buses.query(\"carrier not in ['AC_OH']\").index\n",
    ")\n",
    "n_explore_ac_oh.plot.explore()"
   ]
  },
  {
   "cell_type": "markdown",
   "id": "3e9a521b",
   "metadata": {},
   "source": [
    "Now, we can search the network for generators that are defined with those carriers."
   ]
  },
  {
   "cell_type": "code",
   "execution_count": null,
   "id": "07229e67",
   "metadata": {},
   "outputs": [],
   "source": [
    "n_NT_2030.generators.query(\"carrier in @offwind_carriers_i\").head()"
   ]
  },
  {
   "cell_type": "markdown",
   "id": "039b187e",
   "metadata": {},
   "source": [
    "Let's focus on a specific country:"
   ]
  },
  {
   "cell_type": "code",
   "execution_count": null,
   "id": "d2860601",
   "metadata": {},
   "outputs": [],
   "source": [
    "n_NT_2030.generators.query(\"carrier in @offwind_carriers_i and bus in @buses_i\")"
   ]
  },
  {
   "cell_type": "markdown",
   "id": "f07ca985",
   "metadata": {},
   "source": [
    "## Task 5: Extract existing offshore capacities\n",
    "\n",
    "Extract existing offshore capacities for the country of your choice using the statistics module."
   ]
  },
  {
   "cell_type": "code",
   "execution_count": null,
   "id": "11accc92",
   "metadata": {},
   "outputs": [],
   "source": [
    "# Your solution"
   ]
  },
  {
   "cell_type": "markdown",
   "id": "2fa0d42f",
   "metadata": {},
   "source": [
    "We can also explore the data with the statistics module. First, we can create bar charts."
   ]
  },
  {
   "cell_type": "code",
   "execution_count": null,
   "id": "1f568695",
   "metadata": {},
   "outputs": [],
   "source": [
    "fig, ax, facet_grid = s_DE_2040.optimal_capacity.plot.bar(\n",
    "    bus_carrier=[\"AC\", \"AC_OH\", \"H2_OH\"],\n",
    "    query=\"carrier.str.startswith('offwind') and country in ['NL', 'GB']\",\n",
    "    facet_col=\"country\",\n",
    ")\n",
    "fig.suptitle(\"Offshore wind capacities - DE - 2040\", y=1.05);"
   ]
  },
  {
   "cell_type": "markdown",
   "id": "ef0ef7fa",
   "metadata": {},
   "source": [
    "Then, we can create maps."
   ]
  },
  {
   "cell_type": "code",
   "execution_count": null,
   "id": "7309445e",
   "metadata": {},
   "outputs": [],
   "source": [
    "# Let's clean a network copy to only keep offshore data\n",
    "n_map = n_DE_2040.copy()\n",
    "n_map.remove(\"Bus\", n_map.buses.query(\"carrier not in ['AC', 'AC_OH', 'H2_OH']\").index)\n",
    "n_map.remove(\n",
    "    \"Generator\", n_map.generators.query(\"not carrier.str.startswith('offwind')\").index\n",
    ")\n",
    "n_map.remove(\"Link\", n_map.links.index)\n",
    "n_map.remove(\"StorageUnit\", n_map.storage_units.index)"
   ]
  },
  {
   "cell_type": "code",
   "execution_count": null,
   "id": "03488719",
   "metadata": {},
   "outputs": [],
   "source": [
    "# Define map projection\n",
    "def load_projection(plotting_params):\n",
    "    proj_kwargs = plotting_params.get(\"projection\", dict(name=\"EqualEarth\"))\n",
    "    proj_func = getattr(ccrs, proj_kwargs.pop(\"name\"))\n",
    "    return proj_func(**proj_kwargs)\n",
    "\n",
    "\n",
    "proj = load_projection(dict(name=\"EqualEarth\"))"
   ]
  },
  {
   "cell_type": "code",
   "execution_count": null,
   "id": "0d304aee",
   "metadata": {},
   "outputs": [],
   "source": [
    "# Create the map\n",
    "subplot_kw = {\"projection\": proj}\n",
    "fig, ax = plt.subplots(figsize=(9, 9), subplot_kw=subplot_kw)\n",
    "n_map.statistics.optimal_capacity.plot.map(\n",
    "    bus_carrier=[\"AC\", \"AC_OH\", \"H2_OH\"],\n",
    "    ax=ax,\n",
    "    bus_area_fraction=0.006,\n",
    "    title=\"Offshore wind capacities - DE - 2040\",\n",
    "    legend_circles_kw=dict(\n",
    "        frameon=False,\n",
    "    ),\n",
    ");"
   ]
  },
  {
   "cell_type": "markdown",
   "id": "d82157b9",
   "metadata": {},
   "source": [
    "On the map above, we can see the two types of offshore wind connections. Radially connected capacities are attached to and plotted on the mainland node, hence offshore capacities \"on land\". In contrast, offshore hub capacities are attached to and plotted on the actual offshore nodes.\n",
    "\n",
    "The NT scenario is a dispatch scenario. This is translated in PyPSA with the argument `p_nom_extendable = False`. However, for the two other scenarios, we need to model capacity expansion. \n",
    "\n",
    "Currently, the model is configured to do myopic optimization. This means that only the capacities of the current planning horizon are expandable. Generators of the previous planning horizons are fixed at their optimal capacities. Let's verify this in the network."
   ]
  },
  {
   "cell_type": "code",
   "execution_count": null,
   "id": "f04fa77e",
   "metadata": {},
   "outputs": [],
   "source": [
    "# Let's explore offshore wind generators in Denmark\n",
    "c_buses = n_DE_2040.buses.query(\"country == 'DK'\").index\n",
    "(\n",
    "    n_DE_2040.generators.query(\"carrier in @offwind_carriers_i and bus in @c_buses\")[\n",
    "        [\n",
    "            \"build_year\",\n",
    "            \"p_nom\",\n",
    "            \"p_nom_min\",\n",
    "            \"p_nom_max\",\n",
    "            \"p_nom_opt\",\n",
    "            \"p_nom_extendable\",\n",
    "        ]\n",
    "    ].sort_values(by=\"build_year\")\n",
    ")"
   ]
  },
  {
   "cell_type": "markdown",
   "id": "3cf4a2e0",
   "metadata": {},
   "source": [
    "You can see multiple columns in the table:\n",
    "- `build_year`, the build year of the asset\n",
    "- `p_nom`, the nominal power\n",
    "- `p_nom_min`, if expansion is enabled, the minimum value\n",
    "- `p_nom_max`, if expansion is enabled, the maximum value\n",
    "- `p_nom_opt`, the optimized nominal power\n",
    "- `p_nom_extendable`, if expansion is enabled for that asset\n",
    "\n",
    "The `p_nom_min` reflects the existing capacities defined in the TYNDP, while the `p_nom_max` represents the layer potential. We also implemented constraints to ensure we respect the zone potentials and the trajectories defined in the data:\n",
    "- A constraint limits the expansion of DC and H2 sitting on the same location, as the sum of the two capacities cannot exceed the layer potential.\n",
    "- A constraint sets the maximum potential per zone, taking into account the zone trajectories."
   ]
  },
  {
   "cell_type": "markdown",
   "id": "bd209981",
   "metadata": {},
   "source": [
    "## H2 imports"
   ]
  },
  {
   "cell_type": "markdown",
   "id": "ddf6bd84",
   "metadata": {},
   "source": [
    "There have also been some important additions to the H2 infrastructure since our last workshop. The different H2 import corridors are now included in the model with a simple pipeline transport representation, similar to the H2 reference grid.\n",
    "\n",
    "The import pipelines are implemented using PyPSA's link component. As is convention in PyPSA, this means `bus0` represents the external import node and `bus1` the importing country's Hydrogen Zone 2 node.\n",
    "\n",
    "We can investigate our NT network and list the importing nodes."
   ]
  },
  {
   "cell_type": "code",
   "execution_count": null,
   "id": "f7543d91",
   "metadata": {},
   "outputs": [],
   "source": [
    "h2_import = n_NT_2030.links.filter(like=\"H2 import\", axis=0)\n",
    "set(h2_import.bus1)"
   ]
  },
  {
   "cell_type": "markdown",
   "id": "f0b4e8ce",
   "metadata": {},
   "source": [
    "As we can see from the `p_nom_extendable` attribute of these links, the H2 import corridors cannot be endogenously expanded by the model but are rather fixed inputs as in the TYNDP 2024 methodology."
   ]
  },
  {
   "cell_type": "code",
   "execution_count": null,
   "id": "292a6b2f",
   "metadata": {},
   "outputs": [],
   "source": [
    "h2_import.p_nom_extendable.all()"
   ]
  },
  {
   "cell_type": "code",
   "execution_count": null,
   "id": "469c765e",
   "metadata": {},
   "outputs": [],
   "source": [
    "h2_import[[\"bus0\", \"bus1\", \"carrier\", \"p_nom_extendable\"]].head()"
   ]
  },
  {
   "cell_type": "markdown",
   "id": "bf0e432f",
   "metadata": {},
   "source": [
    "We can investigate our DE network to create a similar plot to what we created last time. Let's import some handy plotting functions from the open-tyndp workflow for this:"
   ]
  },
  {
   "cell_type": "code",
   "execution_count": null,
   "id": "eb8a3d03",
   "metadata": {},
   "outputs": [],
   "source": [
    "from scripts.plot_base_hydrogen_network import plot_h2_map_base"
   ]
  },
  {
   "cell_type": "markdown",
   "id": "1e45eab6",
   "metadata": {},
   "source": [
    "And plot the H2 reference grid together with the import corridors:"
   ]
  },
  {
   "cell_type": "code",
   "execution_count": null,
   "id": "e3d036cd",
   "metadata": {},
   "outputs": [],
   "source": [
    "n.buses.country.isin([\"MA\", \"DZ\"]).any()"
   ]
  },
  {
   "cell_type": "code",
   "execution_count": null,
   "id": "410fe41a",
   "metadata": {},
   "outputs": [],
   "source": [
    "map_opts = {\n",
    "    \"boundaries\": [-11, 30, 28, 71],\n",
    "    \"geomap_colors\": {\n",
    "        \"ocean\": \"white\",\n",
    "        \"land\": \"white\",\n",
    "    },\n",
    "}\n",
    "\n",
    "plot_h2_map_base(\n",
    "    network=n_DE_2040,\n",
    "    map_opts=map_opts,\n",
    "    map_fn=\"../../../h2_import_corridors_DE2040.png\",\n",
    ")\n",
    "Image(\"../../../h2_import_corridors_DE2040.png\")"
   ]
  },
  {
   "cell_type": "markdown",
   "id": "2037a30a",
   "metadata": {},
   "source": [
    "## Task 6: Investigate H2 import corridors"
   ]
  },
  {
   "cell_type": "markdown",
   "id": "93a7e45c",
   "metadata": {},
   "source": [
    " **a)** Extract and investigate the different import corridors for one specific country of your choice using our NT 2030 network.\n",
    "\n",
    " **b)** Compare with DE 2040 data."
   ]
  },
  {
   "cell_type": "code",
   "execution_count": null,
   "id": "917b721b",
   "metadata": {},
   "outputs": [],
   "source": [
    "# Your solution a)"
   ]
  },
  {
   "cell_type": "code",
   "execution_count": null,
   "id": "2b00c97d",
   "metadata": {},
   "outputs": [],
   "source": [
    "# Your solution b)"
   ]
  },
  {
   "cell_type": "markdown",
   "id": "f16ae2fe",
   "metadata": {},
   "source": [
    "# Benchmarking framework"
   ]
  },
  {
   "cell_type": "markdown",
   "id": "9d46af42",
   "metadata": {},
   "source": [
    "Open-TYNDP introduces a benchmarking framework for continuous and systematic validation of Open-TYNDP model outputs against TYNDP 2024 scenarios. This framework provides flexible and scalable validation across multiple metrics and benchmarking methods.\n",
    "\n",
    "Comprehensive documentation of the framework can be found in the [documentation](https://open-tyndp.readthedocs.io/en/latest/benchmarking.html)."
   ]
  },
  {
   "cell_type": "markdown",
   "id": "76038b21",
   "metadata": {},
   "source": [
    "### Metrics\n",
    "\n",
    "The following metrics from the [TYNDP 2024 Scenarios](https://2024.entsos-tyndp-scenarios.eu/wp-content/uploads/2025/01/TYNDP_2024_Scenarios_Report_FInal_Version_250128_web.pdf) report are considered relevant for benchmarking:\n",
    "\n",
    "- Exogenous Inputs:\n",
    "    - Benchmark Final Energy demand by fuel, EU27 (TWh), (Fig 5, p24 and Fig 51, p63)\n",
    "    - Benchmark Electricity demand per sector, EU27 (TWh), (Fig 6, p25 and Fig 52, p63)\n",
    "    - Benchmark Methane demand by sector, EU27 (TWh), (Fig 8, p27 and Fig 53, p64)\n",
    "    - Benchmark Hydrogen demand by sector, EU27 (TWh), (Fig 10, p28 and Fig 54, p64)\n",
    "- Investment and dispatch modelling outputs:\n",
    "    - Benchmark of net installed capacity for electricity generation, EU27 (GW), (Fig 25, p39 and Fig 55, p65)\n",
    "    - Benchmark of electricity generation, EU27 (TWh), (Fig 26, p39 and Fig 56, p65)\n",
    "    - Benchmark methane supply, EU27 (TWh), (Fig 32, p45 and Fig 57, p66)\n",
    "    - Benchmark hydrogen supply, EU27 (TWh), (Fig 33, p46 and Fig 58, p67)\n",
    "    - Benchmark biomass supply, EU27 (TWh), (Fig 59, p67)\n",
    "    - Benchmark energy imports, EU27 (TWh), (Fig 40, p51 and Fig 60, p68)\n",
    "    - Hourly generation profile of power generation, Fig 30, p35\n"
   ]
  },
  {
   "cell_type": "markdown",
   "id": "899cce22",
   "metadata": {},
   "source": [
    "The benchmarking is based on a methodology proposed by [Wen et al. (2022)](https://www.sciencedirect.com/science/article/pii/S0306261922011667). This methodology provides a multi-criteria approach to ensure: diversity, effectiveness, robustness, and compatibility.\n",
    "\n",
    "This methodology defines the following indicators:\n",
    "- **Missing**: Count of carriers/sectors dropped due to missing values\n",
    "- **sMPE** (Symmetric Mean Percentage Error): Indicates the direction of the deviation between modeled scenarios and TYNDP 2024 outcomes, showing if the output is overall overestimated or underestimated.\n",
    "- **sMAPE** (Symmetric Mean Absolute Percentage Error): Indicates the absolute magnitude of the deviations, avoiding the cancellation of negative and positive errors.\n",
    "- **sMdAPE** (Symmetric Median Absolute Percentage Error): Provides skewness information to complement sMAPE.\n",
    "- **RMSLE** (Root Mean Square Logarithmic Error): Complements the percentage errors since it shows the logarithmic deviation values.\n",
    "- **Growth error**: Shows the error on the temporal scale (i.e., between planning horizons). This indicator is ignored for dynamic time series (i.e., hourly generation profiles).\n"
   ]
  },
  {
   "cell_type": "markdown",
   "id": "ec872e86",
   "metadata": {},
   "source": [
    "### Outputs"
   ]
  },
  {
   "cell_type": "markdown",
   "id": "a7b31632",
   "metadata": {},
   "source": [
    ":::{warning}\n",
    "Open-TYNDP is under active development and is not yet feature-complete. The current [development status](https://open-tyndp.readthedocs.io/en/latest/index.html#development-status) and the general [Limitations](https://open-tyndp.readthedocs.io/en/latest/limitations.html) are important to understand before assessing the current benchmarking results.\n",
    ":::\n",
    "\n",
    "We can now explore the content of the `results/tyndp/<SCENARIO>/validation` folder. It's in this folder that all the benchmarking data is stored. First, let's have a look at the summary figure. This figure presents the magnitude of the error for all indicators."
   ]
  },
  {
   "cell_type": "code",
   "execution_count": null,
   "id": "615cd247",
   "metadata": {},
   "outputs": [],
   "source": [
    "display(\n",
    "    convert_from_path(\"results/tyndp/NT/validation/kpis_eu27_s_all___all_years.pdf\")[0]\n",
    ")"
   ]
  },
  {
   "cell_type": "markdown",
   "id": "71b273cd",
   "metadata": {},
   "source": [
    "Associated with this figure, a table presents all the indicators for each metric."
   ]
  },
  {
   "cell_type": "code",
   "execution_count": null,
   "id": "2d7c1baa",
   "metadata": {},
   "outputs": [],
   "source": [
    "pd.read_csv(\"results/tyndp/NT/validation/kpis_eu27_s_all___all_years.csv\", index_col=0)"
   ]
  },
  {
   "cell_type": "markdown",
   "id": "fcf16a35",
   "metadata": {},
   "source": [
    "Note that figures and tables will always include a version tag (in this case `v0.2+gb9516f6f1`) to clearly identify the version of the codebase used to produce the validation.\n",
    "\n",
    "\n",
    "The same benchmarking information is available for all the metrics. Let's explore the quality of the power capacity metric."
   ]
  },
  {
   "cell_type": "code",
   "execution_count": null,
   "id": "6d90c1e9",
   "metadata": {},
   "outputs": [],
   "source": [
    "display(\n",
    "    convert_from_path(\n",
    "        \"results/tyndp/NT/validation/graphics_s_all___all_years/benchmark_power_capacity_eu27_cy2009_2030.pdf\"\n",
    "    )[0]\n",
    ")"
   ]
  },
  {
   "cell_type": "markdown",
   "id": "325a1f31",
   "metadata": {},
   "source": [
    "Again, a table associated with the figure shows the detailed benchmarking data."
   ]
  },
  {
   "cell_type": "code",
   "execution_count": null,
   "id": "fa6c1198",
   "metadata": {},
   "outputs": [],
   "source": [
    "pd.read_csv(\n",
    "    \"results/tyndp/NT/validation/csvs_s_all___all_years/power_capacity_eu27_cy2009_s_all___all_years.csv\",\n",
    "    index_col=0,\n",
    ")"
   ]
  },
  {
   "cell_type": "markdown",
   "id": "ae4cb62c",
   "metadata": {},
   "source": [
    "This feature is still work in progress and will be improved throughout the project."
   ]
  },
  {
   "cell_type": "markdown",
   "id": "6a393c49",
   "metadata": {},
   "source": [
    "# Solutions"
   ]
  },
  {
   "cell_type": "markdown",
   "id": "6bd84748",
   "metadata": {},
   "source": [
    "## Task 1: Executing a workflow with Snakemake"
   ]
  },
  {
   "cell_type": "code",
   "execution_count": null,
   "id": "6612039f",
   "metadata": {
    "tags": [
     "hide-cell"
    ]
   },
   "outputs": [],
   "source": [
    "# Solution a)\n",
    "! snakemake -call data/base_2030.nc -n"
   ]
  },
  {
   "cell_type": "code",
   "execution_count": null,
   "id": "81d668d4",
   "metadata": {
    "tags": [
     "hide-cell"
    ]
   },
   "outputs": [],
   "source": [
    "# Solution b)\n",
    "! snakemake -call"
   ]
  },
  {
   "cell_type": "code",
   "execution_count": null,
   "id": "5c39d444",
   "metadata": {
    "tags": [
     "hide-cell"
    ]
   },
   "outputs": [],
   "source": [
    "# Solution c)\n",
    "! snakemake -call"
   ]
  },
  {
   "cell_type": "code",
   "execution_count": null,
   "id": "1a9e6a27",
   "metadata": {
    "tags": [
     "hide-cell"
    ]
   },
   "outputs": [],
   "source": [
    "# Solution d)\n",
    "Path(\"data/data_raw.csv\").touch()"
   ]
  },
  {
   "cell_type": "code",
   "execution_count": null,
   "id": "ed748580",
   "metadata": {
    "tags": [
     "hide-cell"
    ]
   },
   "outputs": [],
   "source": [
    "! snakemake -call"
   ]
  },
  {
   "cell_type": "code",
   "execution_count": null,
   "id": "21b0a75b",
   "metadata": {
    "tags": [
     "hide-cell"
    ]
   },
   "outputs": [],
   "source": [
    "# Solution e)\n",
    "# ..."
   ]
  },
  {
   "cell_type": "markdown",
   "id": "c356d4a6",
   "metadata": {},
   "source": [
    "## Task 2: Explore the folder"
   ]
  },
  {
   "cell_type": "code",
   "execution_count": null,
   "id": "dab690f8",
   "metadata": {
    "tags": [
     "hide-cell"
    ]
   },
   "outputs": [],
   "source": [
    "# Solution a)\n",
    "# data/tyndp_2024_bundle"
   ]
  },
  {
   "cell_type": "code",
   "execution_count": null,
   "id": "80ef4edd",
   "metadata": {
    "tags": [
     "hide-cell"
    ]
   },
   "outputs": [],
   "source": [
    "# Solution b)\n",
    "# config/config.tyndp.yaml"
   ]
  },
  {
   "cell_type": "code",
   "execution_count": null,
   "id": "edbf0f33",
   "metadata": {
    "tags": [
     "hide-cell"
    ]
   },
   "outputs": [],
   "source": [
    "# Solution c)\n",
    "# results/tyndp/NT/maps/base_s_all__-h2_network_2040.pdf"
   ]
  },
  {
   "cell_type": "markdown",
   "id": "3580f8c8",
   "metadata": {},
   "source": [
    "## Task 3: Compute average capacity factor"
   ]
  },
  {
   "cell_type": "code",
   "execution_count": null,
   "id": "2c754462",
   "metadata": {
    "tags": [
     "hide-cell"
    ]
   },
   "outputs": [],
   "source": [
    "# Solution a)\n",
    "cf_onwind = pd.read_csv(\n",
    "    \"resources/tyndp/NT/pecd_data_Wind_Onshore_2030.csv\",\n",
    "    index_col=0,\n",
    "    parse_dates=True,\n",
    ")\n",
    "cf_onwind.head();"
   ]
  },
  {
   "cell_type": "code",
   "execution_count": null,
   "id": "4f40725b",
   "metadata": {
    "tags": [
     "hide-cell"
    ]
   },
   "outputs": [],
   "source": [
    "# Solution b)\n",
    "cf_onwind.columns = cf_onwind.columns.str[:2]\n",
    "cf_onwind.columns.name = \"country\"\n",
    "\n",
    "cf_onwind_sorted = cf_onwind.T.groupby(by=\"country\").mean().mean(axis=1).sort_values()\n",
    "cf_onwind_sorted.tail()"
   ]
  },
  {
   "cell_type": "code",
   "execution_count": null,
   "id": "6c824007",
   "metadata": {
    "tags": [
     "hide-cell"
    ]
   },
   "outputs": [],
   "source": [
    "fig, ax = plt.subplots(figsize=(14, 9))\n",
    "cf_onwind_sorted.plot.barh(\n",
    "    title=\"Average capacity factors - 2030\",\n",
    "    xlabel=\"Capacity factor [p.u]\",\n",
    "    ylabel=\"Country\",\n",
    "    ax=ax,\n",
    ");"
   ]
  },
  {
   "cell_type": "code",
   "execution_count": null,
   "id": "c98ff45b",
   "metadata": {
    "tags": [
     "hide-cell"
    ]
   },
   "outputs": [],
   "source": [
    "# Solution c)\n",
    "c_buses = n_NT_2030h.buses.query(\"country=='IE'\").index\n",
    "c_gen = n_NT_2030h.generators.query(\"carrier=='onwind' and bus in @c_buses\").index\n",
    "c_cf = n_NT_2030h.generators_t.p_max_pu[c_gen]\n",
    "c_cf.mean()"
   ]
  },
  {
   "cell_type": "markdown",
   "id": "1e29596d",
   "metadata": {},
   "source": [
    "## Task 4: Verify onshore wind trajectories"
   ]
  },
  {
   "cell_type": "code",
   "execution_count": null,
   "id": "99211836",
   "metadata": {
    "tags": [
     "hide-cell"
    ]
   },
   "outputs": [],
   "source": [
    "# Solution\n",
    "(\n",
    "    pd.read_csv(\"resources/tyndp/DE/tyndp_trajectories.csv\", index_col=0)\n",
    "    .query(\"bus=='DE00' and carrier == 'onwind'\")\n",
    "    .set_index(\"pyear\")\n",
    "    .div(1e3)  # in GW\n",
    "    .sort_index()[[\"p_nom_min\", \"p_nom_max\"]]\n",
    ")"
   ]
  },
  {
   "cell_type": "code",
   "execution_count": null,
   "id": "7252d009",
   "metadata": {
    "tags": [
     "hide-cell"
    ]
   },
   "outputs": [],
   "source": [
    "trj_onwind_de = (\n",
    "    n_DE_2040.generators.query(\"carrier == 'onwind' and bus == 'DE00'\")\n",
    "    .sort_index()[[\"p_nom_opt\", \"p_nom_min\", \"p_nom_max\"]]\n",
    "    .div(1e3)  # in GW\n",
    ")\n",
    "trj_onwind_de"
   ]
  },
  {
   "cell_type": "code",
   "execution_count": null,
   "id": "4ff2dcd7",
   "metadata": {
    "tags": [
     "hide-cell"
    ]
   },
   "outputs": [],
   "source": [
    "(\n",
    "    trj_onwind_de.loc[\"DE00 0 onwind-2040\", [\"p_nom_min\", \"p_nom_max\"]]\n",
    "    + trj_onwind_de.loc[\"DE00 0 onwind-2030\", \"p_nom_opt\"]\n",
    ")"
   ]
  },
  {
   "cell_type": "markdown",
   "id": "1473007f",
   "metadata": {},
   "source": [
    "## Task 5: Extract existing offshore capacities"
   ]
  },
  {
   "cell_type": "code",
   "execution_count": null,
   "id": "d2f467d5",
   "metadata": {
    "tags": [
     "hide-cell"
    ]
   },
   "outputs": [],
   "source": [
    "# Solution\n",
    "(\n",
    "    s_NT_2030.optimal_capacity(\n",
    "        bus_carrier=[\"AC\", \"AC_OH\", \"H2_OH\"],\n",
    "        comps=\"Generator\",\n",
    "        groupby=[\"bus\", \"carrier\"],\n",
    "    )\n",
    "    .to_frame(\"p_nom_opt\")\n",
    "    .query(\"bus.str.contains('BE') and carrier.str.startswith('offwind')\")\n",
    ")"
   ]
  },
  {
   "cell_type": "markdown",
   "id": "d6da43dd",
   "metadata": {},
   "source": [
    "## Task 6: Investigate H2 import corridors"
   ]
  },
  {
   "cell_type": "code",
   "execution_count": null,
   "id": "5fb8d898",
   "metadata": {
    "tags": [
     "hide-cell"
    ]
   },
   "outputs": [],
   "source": [
    "# Solution a)\n",
    "(\n",
    "    n_NT_2030.links.filter(like=\"H2 import\", axis=0).query(\"bus1.str.contains('BE')\")[\n",
    "        [\"bus0\", \"bus1\", \"carrier\", \"p_nom\"]\n",
    "    ]\n",
    ")"
   ]
  },
  {
   "cell_type": "code",
   "execution_count": null,
   "id": "8a598253",
   "metadata": {
    "tags": [
     "hide-cell"
    ]
   },
   "outputs": [],
   "source": [
    "# Solution b)\n",
    "(\n",
    "    n_DE_2040.links.filter(like=\"H2 import\", axis=0).query(\"bus1.str.contains('BE')\")[\n",
    "        [\"bus0\", \"bus1\", \"carrier\", \"p_nom\"]\n",
    "    ]\n",
    ")"
   ]
  }
 ],
 "metadata": {
  "kernelspec": {
   "display_name": "open-tyndp",
   "language": "python",
   "name": "python3"
  },
  "language_info": {
   "codemirror_mode": {
    "name": "ipython",
    "version": 3
   },
   "file_extension": ".py",
   "mimetype": "text/x-python",
   "name": "python",
   "nbconvert_exporter": "python",
   "pygments_lexer": "ipython3",
   "version": "3.12.11"
  }
 },
 "nbformat": 4,
 "nbformat_minor": 5
}

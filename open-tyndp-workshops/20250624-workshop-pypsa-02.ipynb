{
 "cells": [
  {
   "cell_type": "markdown",
   "id": "e1bee99052b4b9a7",
   "metadata": {},
   "source": [
    "# Workshop 2: Introduction to `Snakemake`, new features update & benchmarking"
   ]
  },
  {
   "cell_type": "markdown",
   "id": "de6b79e8",
   "metadata": {},
   "source": [
    ":::{note}\n",
    "If you have not yet set up Python on your computer, you can execute this tutorial in your browser via [Google Colab](https://colab.research.google.com/). Click on the rocket in the top right corner and launch \"Colab\". If that doesn't work download the `.ipynb` file and import it in [Google Colab](https://colab.research.google.com/).\n",
    "\n",
    "Then install the following packages by executing the following command in a Jupyter cell at the top of the notebook.\n",
    "\n",
    "```sh\n",
    "!pip install \"pypsa<1.0\" pandas geopandas xarray matplotlib seaborn cartopy snakemake graphviz snakemake-storage-plugin-http pdf2image atlite fiona powerplantmatching\n",
    "!apt-get install poppler-utils\n",
    "```\n",
    ":::"
   ]
  },
  {
   "cell_type": "code",
   "id": "2b6709dc40105df0",
   "metadata": {},
   "source": [
    "# uncomment for running this notebook on Colab\n",
    "# !pip install \"pypsa<1.0\" pandas geopandas xarray matplotlib seaborn cartopy snakemake graphviz snakemake-storage-plugin-http pdf2image atlite fiona powerplantmatching\n",
    "# !apt-get install poppler-utils"
   ],
   "outputs": [],
   "execution_count": null
  },
  {
   "cell_type": "code",
   "id": "2e77e08cf2659dc9",
   "metadata": {},
   "source": [
    "import os\n",
    "from pathlib import Path\n",
    "from urllib.request import urlretrieve\n",
    "\n",
    "import cartopy.crs as ccrs\n",
    "import matplotlib.pyplot as plt\n",
    "import numpy as np\n",
    "import pandas as pd\n",
    "import pypsa\n",
    "import seaborn as sns\n",
    "import warnings\n",
    "from IPython.display import Code, SVG, Image, IFrame, display\n",
    "from matplotlib.ticker import MultipleLocator\n",
    "from pdf2image import convert_from_path\n",
    "from pypsa.plot.maps.static import (\n",
    "    add_legend_circles,\n",
    "    add_legend_lines,\n",
    "    add_legend_patches,\n",
    ")\n",
    "\n",
    "pypsa.options.params.statistics.round = 3\n",
    "pypsa.options.params.statistics.drop_zero = True\n",
    "pypsa.options.params.statistics.nice_names = False\n",
    "plt.rcParams[\"figure.figsize\"] = [14, 7]"
   ],
   "outputs": [],
   "execution_count": null
  },
  {
   "cell_type": "code",
   "id": "29e958cf3c155164",
   "metadata": {},
   "source": [
    "urls = {\n",
    "    \"data/data_raw.csv\": \"https://storage.googleapis.com/open-tyndp-data-store/workshop-02/data_raw.csv\",\n",
    "    \"data/open-tyndp.zip\": \"https://storage.googleapis.com/open-tyndp-data-store/workshop-02/open-tyndp.zip\",\n",
    "    \"data/network_NT_presolve_highres_2030.nc\": \"https://storage.googleapis.com/open-tyndp-data-store/workshop-02/network_NT_presolve_highres_2030.nc\",\n",
    "    \"Snakefile\": \"https://raw.githubusercontent.com/open-energy-transition/open-tyndp-workshops/refs/heads/main/open-tyndp-workshops/Snakefile\",\n",
    "}\n",
    "\n",
    "os.makedirs(\"data\", exist_ok=True)\n",
    "for name, url in urls.items():\n",
    "    if os.path.exists(name):\n",
    "        print(f\"File {name} already exists. Skipping download.\")\n",
    "    else:\n",
    "        print(f\"Retrieving {name} from GCP storage.\")\n",
    "        urlretrieve(url, name)\n",
    "        print(f\"File available in {name}.\")\n",
    "\n",
    "to_dir = \"data/open-tyndp\"\n",
    "if not os.path.exists(to_dir):\n",
    "    print(f\"Unzipping data/open-tyndp.zip.\")\n",
    "    ! unzip -q -o data/open-tyndp.zip -d data/open-tyndp\n",
    "print(f\"Open-TYNDP available in '{to_dir}'.\")\n",
    "\n",
    "print(\"Done\")"
   ],
   "outputs": [],
   "execution_count": null
  },
  {
   "cell_type": "markdown",
   "id": "f68125e0502973f",
   "metadata": {},
   "source": [
    "# The `Snakemake` tool"
   ]
  },
  {
   "cell_type": "markdown",
   "id": "f44c6959896526ad",
   "metadata": {},
   "source": [
    "![](snakemake_logo.png)\n",
    "\n",
    "The `Snakemake` workflow management system is a tool to create reproducible and scalable data analyses.\n",
    "Workflows are described via a human readable, Python based language. They can be seamlessly scaled to server, cluster, grid, and cloud environments, without the need to modify the workflow definition."
   ]
  },
  {
   "cell_type": "markdown",
   "id": "2f61ff44",
   "metadata": {},
   "source": [
    "Snakemake follows the [GNU Make](https://www.gnu.org/software/make) paradigm: workflows are defined in terms of so-called `rules` that specify how to create a set of output files from a set of input files. Dependencies between the rules are determined automatically, creating a DAG (directed acyclic graph) of jobs that can be automatically parallelized."
   ]
  },
  {
   "cell_type": "markdown",
   "id": "94c5c5e23a63e560",
   "metadata": {},
   "source": [
    ":::{note}\n",
    "Documentation for this package is available at https://snakemake.readthedocs.io/. You can also check out a [slide deck Snakemake Tutorial](https://slides.com/johanneskoester/snakemake-tutorial) by Johannes Köster (2024).\n",
    "\n",
    "Mölder, F., Jablonski, K.P., Letcher, B., Hall, M.B., Tomkins-Tinch, C.H., Sochat, V., Forster, J., Lee, S., Twardziok, S.O., Kanitz, A., Wilm, A., Holtgrewe, M., Rahmann, S., Nahnsen, S., Köster, J., 2021. Sustainable data analysis with Snakemake. F1000Res 10, 33.\n",
    ":::\n"
   ]
  },
  {
   "cell_type": "markdown",
   "id": "2e82c9e22d6b8ce6",
   "metadata": {},
   "source": [
    "## A minimal Snakemake example"
   ]
  },
  {
   "cell_type": "markdown",
   "id": "a2f936ab",
   "metadata": {},
   "source": [
    "To check out how this looks in practice, we've prepared a minimal Snakemake example workflow that processes some data. The minimal workflow consists of the following rules:\n",
    "- `retrieve_data`\n",
    "- `build_data`\n",
    "- `prepare_network`\n",
    "- `solve_network`\n",
    "- `plot_benchmark`\n",
    "- `all`\n",
    "\n",
    "These rules are illustrative and mimic the Open-TYNDP structure and nomenclature."
   ]
  },
  {
   "cell_type": "markdown",
   "id": "3c33282d",
   "metadata": {},
   "source": [
    "<center>\n",
    "\n",
    "![](minimal_workflow.png)\n",
    "\n",
    "</center>"
   ]
  },
  {
   "cell_type": "markdown",
   "id": "534d9440",
   "metadata": {},
   "source": [
    "We have already loaded the raw data file used in this minimal example into our working directory.\n",
    "\n",
    "As you can see, the `plot_benchmark` rule will be called twice with two different filename extensions. For this, we are taking advantage of the concept of wildcards (`ext`). Snakemake will automatically resolve the wildcards using the dependency graph. In this case, the `all` rule takes as input both a `png` and a `pdf` figure which propagates back throughout the workflow."
   ]
  },
  {
   "cell_type": "markdown",
   "id": "458220db",
   "metadata": {},
   "source": [
    "### The `Snakefile` and `rules`"
   ]
  },
  {
   "cell_type": "markdown",
   "id": "c6ef510f",
   "metadata": {},
   "source": [
    "The rules need to be defined in a so-called `Snakefile` that sits in your current working directory. For our minimal example the `Snakefile` looks like this:"
   ]
  },
  {
   "cell_type": "code",
   "id": "c9dfe4ae",
   "metadata": {},
   "source": [
    "Code(filename=\"Snakefile\", language=\"Python\")"
   ],
   "outputs": [],
   "execution_count": null
  },
  {
   "cell_type": "markdown",
   "id": "d9e08a20",
   "metadata": {},
   "source": [
    "You can check out the scripts under `scripts`. You will see that they are simplistic and only serve an illustrative purpose.\n",
    "\n",
    "You can also observe how the `plot_benchmark` rule is defined to take advantage of the wildcards. This reduces the redundancy in the `Snakefile`. Wildcards are defined between `{ }` in the rule definition."
   ]
  },
  {
   "cell_type": "markdown",
   "id": "677e4c85",
   "metadata": {},
   "source": [
    "### Calling a workflow"
   ]
  },
  {
   "cell_type": "markdown",
   "id": "ce7ebade",
   "metadata": {},
   "source": [
    "You can trigger the workflow by specifying a target file, like `data/benchmark.pdf`, or any intermediate file:\n",
    "```bash\n",
    "snakemake -call data/benchmark.pdf\n",
    "```"
   ]
  },
  {
   "cell_type": "markdown",
   "id": "f9edee26",
   "metadata": {},
   "source": [
    "Alternatively, you can also execute the workflow by calling a rule that produces an intermediate file:\n",
    "```bash\n",
    "snakemake -call build_data\n",
    "```\n",
    "**NOTE:** You cannot call a rule that includes a wildcard without specifying what the wildcard should be filled with. Otherwise, Snakemake will not know what to propagate back."
   ]
  },
  {
   "cell_type": "markdown",
   "id": "6235bc82",
   "metadata": {},
   "source": [
    "Or you can call the common rule `all` which can be used to execute the entire workflow. It takes the final workflow output as its input and thus requires all previous dependent rules to be run as well:\n",
    "```bash\n",
    "snakemake -call all\n",
    "```\n",
    "\n",
    "Because we defined the `all` rule as first in the `Snakefile`, this rule is assumed to be the default and the following also works:\n",
    "```bash\n",
    "snakemake -call\n",
    "```"
   ]
  },
  {
   "cell_type": "markdown",
   "id": "d8fd843e",
   "metadata": {},
   "source": [
    "A very important feature is the `-n` flag which executes a `dry-run`. It is recommended to always first execute a `dry-run` before the actual execution of a workflow. This simply prints out the DAG of the workflow to investigate without actually executing it.\n",
    "\n",
    "Let's try this out and investigate the output:"
   ]
  },
  {
   "cell_type": "code",
   "id": "ec82288e",
   "metadata": {},
   "source": [
    "! snakemake -call -n"
   ],
   "outputs": [],
   "execution_count": null
  },
  {
   "cell_type": "markdown",
   "id": "709ca66e",
   "metadata": {},
   "source": [
    "As you can see, the `plot_benchmark` rule will be executed twice due to wildcards."
   ]
  },
  {
   "cell_type": "markdown",
   "id": "dd6ef812",
   "metadata": {},
   "source": [
    "### Visualizing the `DAG` of a workflow"
   ]
  },
  {
   "cell_type": "markdown",
   "id": "9ff53df2",
   "metadata": {},
   "source": [
    "You can also visualize the DAG of jobs using the `--dag` flag and the Graphviz `dot` command. This will not run the workflow but only create the visualization:"
   ]
  },
  {
   "cell_type": "code",
   "id": "e051153b",
   "metadata": {},
   "source": [
    "! snakemake -call --dag | sed -n \"/digraph/,\\$p\" | dot -Tpng > dag_minimal.png"
   ],
   "outputs": [],
   "execution_count": null
  },
  {
   "cell_type": "code",
   "id": "1a4af4831b0ac3b4",
   "metadata": {},
   "source": [
    "Image(\"dag_minimal.png\")"
   ],
   "outputs": [],
   "execution_count": null
  },
  {
   "cell_type": "markdown",
   "id": "29dd60fa",
   "metadata": {},
   "source": [
    "Rules that need to be executed will be presented as plain lines, while those that have already been executed will be presented as dotted lines. An alternative to the DAG is the `rulegraph`. This graph is typically less crowded as you will only visualize the dependency graph of rules. This representation is leaner than the DAG because rules are not repeated for wildcards."
   ]
  },
  {
   "cell_type": "code",
   "id": "d54d6fa0",
   "metadata": {},
   "source": [
    "! snakemake -call all --rulegraph | sed -n \"/digraph/,\\$p\" | dot -Tpng > rulegraph_minimal.png"
   ],
   "outputs": [],
   "execution_count": null
  },
  {
   "cell_type": "code",
   "id": "253e9c2d",
   "metadata": {},
   "source": [
    "Image(\"rulegraph_minimal.png\")"
   ],
   "outputs": [],
   "execution_count": null
  },
  {
   "cell_type": "markdown",
   "id": "99494ce7",
   "metadata": {},
   "source": [
    "As you can see, the `plot_benchmark` rule is only represented once.\n",
    "\n",
    "Alternatively, you can also visualize a `filegraph`, which is similar to the `rulegraph` but includes some information about the inputs and outputs to each of the rules."
   ]
  },
  {
   "cell_type": "code",
   "id": "c1ec22d6",
   "metadata": {},
   "source": [
    "! snakemake -call all --filegraph | sed -n \"/digraph/,\\$p\" | dot -Tsvg > filegraph_minimal.svg"
   ],
   "outputs": [],
   "execution_count": null
  },
  {
   "cell_type": "code",
   "id": "72c99998a2f27173",
   "metadata": {},
   "source": [
    "SVG(\"filegraph_minimal.svg\")"
   ],
   "outputs": [],
   "execution_count": null
  },
  {
   "cell_type": "markdown",
   "id": "cc74c230",
   "metadata": {},
   "source": [
    "## Task 1: Executing a workflow with Snakemake\n",
    "\n",
    "**a)** For our minimal example, execute a `dry-run` to produce the intermediate file `data/base_2030.nc`.\n",
    "\n",
    "**b)** Execute the entire workflow and investigate what happens if you try to execute the workflow again.\n",
    "\n",
    "**c)** Delete the final output file `data/benchmark.pdf` and investigate what happens if you try to execute the workflow again.\n",
    "\n",
    "**d)** Change a value in the raw input data file `data/data_raw.csv` and save it again, overwriting the original file. Investigate what happens if you try to execute the workflow again.\n",
    "\n",
    "Hint: You can also just `touch` the file by executing `Path(\"data/data_raw.csv\").touch()`. This will mimic a file edit.\n",
    "\n",
    "**e)** (Optional) Open the `Snakefile` and add a second rule that processes the file `data_raw_2.csv` using the same script as the `build_data` rule. Add the output of this new rule as a second input to the `prepare_network` rule."
   ]
  },
  {
   "cell_type": "code",
   "id": "fec0ad1f",
   "metadata": {},
   "source": [
    "# Your solution a)"
   ],
   "outputs": [],
   "execution_count": null
  },
  {
   "cell_type": "code",
   "id": "cfa7c13c",
   "metadata": {},
   "source": [
    "# Your solution b)"
   ],
   "outputs": [],
   "execution_count": null
  },
  {
   "cell_type": "code",
   "id": "6b8d5cf9",
   "metadata": {},
   "source": [
    "# Your solution c)"
   ],
   "outputs": [],
   "execution_count": null
  },
  {
   "cell_type": "code",
   "id": "ac995bb3",
   "metadata": {},
   "source": [
    "# Your solution d)"
   ],
   "outputs": [],
   "execution_count": null
  },
  {
   "cell_type": "code",
   "id": "4f55b510",
   "metadata": {},
   "source": [
    "# Your solution e)"
   ],
   "outputs": [],
   "execution_count": null
  },
  {
   "cell_type": "markdown",
   "id": "78fc1a64ecb68ac3",
   "metadata": {},
   "source": [
    "## Discover Open-TYNDP file structure"
   ]
  },
  {
   "cell_type": "markdown",
   "id": "759df1ccb8f8f179",
   "metadata": {},
   "source": [
    "We have already retrieved a prebuilt version of the `open-tyndp` GitHub repository into our working directory. This folder contains a run of Open-TYNDP for NT and DE scenarios, with 2030 and 2040 as planning horizons. We removed the atlite cutout from the archive and compressed the archive using `zip -r open-tyndp.zip .`."
   ]
  },
  {
   "cell_type": "markdown",
   "id": "70b5b10c",
   "metadata": {},
   "source": [
    "The `open-tyndp` repository contains the following structure. Directories of particular interest are marked in bold:"
   ]
  },
  {
   "cell_type": "markdown",
   "id": "ea24d976",
   "metadata": {},
   "source": [
    "- **benchmarks**: will store Snakemake benchmarks (does not exist initially)\n",
    "- **config**: configurations used in the study\n",
    "- cutouts: will store raw weather data cutouts from atlite (does not exist initially)\n",
    "- **data**: includes input data that is not produced by any Snakemake rule. Various different input files are retrieved from external storage and stored in this directory\n",
    "- doc: includes all files necessary to build the readthedocs documentation of PyPSA-Eur\n",
    "- **envs**: includes all the mamba environment specifications to run the workflow\n",
    "- logs: will store log files (does not exist initially)\n",
    "- notebooks: includes all the notebooks used for ad-hoc analysis\n",
    "- report: contains all files necessary to build the report; plots and result files are generated automatically\n",
    "- **rules**: includes all the Snakemake rules loaded in the Snakefile\n",
    "- **resources**: will store intermediate results of the workflow which can be picked up again by subsequent rules (does not exist initially)\n",
    "- **results**: will store the solved PyPSA network data, summary files and output plots (does not exist initially)\n",
    "- **scripts**: includes all the Python scripts executed by the Snakemake rules to build the model"
   ]
  },
  {
   "cell_type": "markdown",
   "id": "78bc2c6b",
   "metadata": {},
   "source": [
    "## Task 2: Explore the folder\n",
    "\n",
    "**a)** Can you find the TYNDP specific data input files?\n",
    "\n",
    "**b)** Where can you check which scenario and planning horizons were used to generate the current results?\n",
    "\n",
    "Hint: Search for `config.tyndp.yaml`.\n",
    "\n",
    "**c)** Can you find the hydrogen grid map in the output files for the NT scenario in 2040?\n",
    "\n",
    "Hint: Search for `base_s_all__-h2_network_2040.pdf`."
   ]
  },
  {
   "cell_type": "code",
   "id": "ddd0f7b8",
   "metadata": {},
   "source": [
    "# Your solution a)"
   ],
   "outputs": [],
   "execution_count": null
  },
  {
   "cell_type": "code",
   "id": "69c66a3e",
   "metadata": {},
   "source": [
    "# Your solution b)"
   ],
   "outputs": [],
   "execution_count": null
  },
  {
   "cell_type": "code",
   "id": "68f2c9de",
   "metadata": {},
   "source": [
    "# Your solution c)"
   ],
   "outputs": [],
   "execution_count": null
  },
  {
   "cell_type": "markdown",
   "id": "25a59104",
   "metadata": {},
   "source": [
    "## Using Snakemake to launch the Open-TYNDP workflow"
   ]
  },
  {
   "cell_type": "markdown",
   "id": "a29b1200c02ce786",
   "metadata": {},
   "source": [
    "We now need to change our working directory to the Open-TYNDP directory we previously retrieved."
   ]
  },
  {
   "cell_type": "code",
   "id": "f190d685184837b4",
   "metadata": {},
   "source": [
    "os.chdir(\"data/open-tyndp\")"
   ],
   "outputs": [],
   "execution_count": null
  },
  {
   "cell_type": "markdown",
   "id": "affb46cc",
   "metadata": {},
   "source": [
    "Be aware that to run the previous section of this notebook, you will need to restore the default working directory using `os.chdir(\"../../\")`.\n",
    "\n",
    "Let's check that we are indeed in the new directory now:"
   ]
  },
  {
   "cell_type": "code",
   "id": "4db99e626b8b0309",
   "metadata": {},
   "source": [
    "os.getcwd()"
   ],
   "outputs": [],
   "execution_count": null
  },
  {
   "cell_type": "markdown",
   "id": "ac7e3e50",
   "metadata": {},
   "source": [
    "We can now use Snakemake to call some of the rules to produce outputs with the `open-tyndp` PyPSA model. \n",
    "\n",
    "We will use the prepared TYNDP configuration file (`config/config.tyndp.yaml`) and schedule a dry-run with `-n` as we only want to investigate the DAG of the workflow:"
   ]
  },
  {
   "cell_type": "code",
   "id": "a547c6f4a2d82607",
   "metadata": {},
   "source": [
    "! snakemake -call --configfile config/config.tyndp.yaml -n"
   ],
   "outputs": [],
   "execution_count": null
  },
  {
   "cell_type": "markdown",
   "id": "561132a0",
   "metadata": {},
   "source": [
    "As you can see, there is nothing to be done since all necessary outputs are already present in the files. However, we can still explore the set of rules defined in the `Snakefile` and the other `.smk` files. First, we can plot the rule graph, then the full DAG.\n",
    "\n",
    "The corresponding rule graph to this workflow will look like this:"
   ]
  },
  {
   "cell_type": "code",
   "id": "33f4913b",
   "metadata": {},
   "source": [
    "! snakemake -call --configfile config/config.tyndp.yaml --rulegraph | sed -n \"/digraph/,\\$p\" | dot -Tpng > rulegraph_open_tyndp.png"
   ],
   "outputs": [],
   "execution_count": null
  },
  {
   "cell_type": "code",
   "id": "4749ee23",
   "metadata": {},
   "source": [
    "Image(\"rulegraph_open_tyndp.png\")"
   ],
   "outputs": [],
   "execution_count": null
  },
  {
   "cell_type": "markdown",
   "id": "3685f3bc",
   "metadata": {},
   "source": [
    "The corresponding DAG to this workflow will look like this:"
   ]
  },
  {
   "cell_type": "code",
   "id": "fff1f73b",
   "metadata": {},
   "source": [
    "! snakemake -call --configfile config/config.tyndp.yaml --dag | sed -n \"/digraph/,\\$p\" | dot -Tpng > dag_open_tyndp.png"
   ],
   "outputs": [],
   "execution_count": null
  },
  {
   "cell_type": "code",
   "id": "9fac6ea7",
   "metadata": {},
   "source": [
    "Image(\"dag_open_tyndp.png\")"
   ],
   "outputs": [],
   "execution_count": null
  },
  {
   "cell_type": "markdown",
   "id": "d009cc9b",
   "metadata": {},
   "source": [
    "As you can see, this workflow is much more complex than our minimal example from the beginning. Since we already executed the entire workflow for this demonstration, all the rules are presented as dotted lines in the DAG.\n",
    "\n",
    "You will also notice that the DAG is much larger than the rule graph. This is because Open-TYNDP leverages wildcards quite extensively to generalize rule definitions and to parallelize tasks.\n",
    "\n",
    "Nevertheless, the general idea remains the same. We retrieve data which we consequently process, then we prepare the model network and we solve it before we postprocess the results (summary, plotting, benchmarks)."
   ]
  },
  {
   "cell_type": "markdown",
   "id": "9d0bcb21af782ebd",
   "metadata": {},
   "source": [
    "## Triggering a workflow run on Open-TYNDP\n",
    "\n",
    "Let's simulate a completed optimization by updating the timestamp of the solved network file (base_s_all___2040.nc), which is saved as the final step of the optimization process."
   ]
  },
  {
   "cell_type": "code",
   "id": "451d4d95",
   "metadata": {},
   "source": [
    "Path(\"results/tyndp/NT/networks/base_s_all___2040.nc\").touch()"
   ],
   "outputs": [],
   "execution_count": null
  },
  {
   "cell_type": "markdown",
   "id": "67377971",
   "metadata": {},
   "source": [
    "We can now see that Snakemake triggers all the rules that depend on the solved network. In this case, these are all the postprocessing rules."
   ]
  },
  {
   "cell_type": "code",
   "id": "d7930fb0",
   "metadata": {},
   "source": [
    "! snakemake -call --configfile config/config.tyndp.yaml -n"
   ],
   "outputs": [],
   "execution_count": null
  },
  {
   "cell_type": "markdown",
   "id": "2b4aaf85",
   "metadata": {},
   "source": [
    ":::{note}\n",
    "Because of the complexity of the workflow, we are not executing this. However, if you are running this notebook on your local machine, you can also use the `conda` package manager to install the `pypsa-eur` environment and run the workflow instead of dry-runs:\n",
    "```\n",
    "conda env create --file envs/<YourSystemOS>.lock.yaml\n",
    "```\n",
    ":::"
   ]
  },
  {
   "cell_type": "markdown",
   "id": "240f5e7d",
   "metadata": {},
   "source": [
    "# Update on new features"
   ]
  },
  {
   "cell_type": "markdown",
   "id": "19d279af",
   "metadata": {},
   "source": [
    "This workshop focuses on the 2030 NT scenario and the 2040 DE scenario. Since our last workshop, we have added four major features to the model:\n",
    "1. TYNDP electricity demand and PECD capacity factors time series,\n",
    "2. Onshore wind and solar TYNDP technologies (incl. PEMMDB existing capacities and trajectories),\n",
    "3. Offshore hubs (incl. the offshore topology, all associated technologies, potential constraints and trajectories),\n",
    "4. Hydrogen import corridors."
   ]
  },
  {
   "cell_type": "markdown",
   "id": "b60f0668",
   "metadata": {},
   "source": [
    "The Open-TYNDP data we retrieved contains networks with low time resolution (6H). This is illustrative; however, since we are focusing on time series, we will use another network with hourly resolution. We will import this pre-solved network for NT 2030."
   ]
  },
  {
   "cell_type": "code",
   "id": "f2079eb8",
   "metadata": {},
   "source": [
    "n_NT_2030h = pypsa.Network(\"../network_NT_presolve_highres_2030.nc\")"
   ],
   "outputs": [],
   "execution_count": null
  },
  {
   "cell_type": "markdown",
   "id": "3333d214",
   "metadata": {},
   "source": [
    "## Electricity demand profiles"
   ]
  },
  {
   "cell_type": "markdown",
   "id": "80b52e94",
   "metadata": {},
   "source": [
    "We can then explore the electricity demand profiles that are attached to the network. Can you remember how to access time-varying attributes of components in PyPSA?"
   ]
  },
  {
   "cell_type": "code",
   "id": "95d3ae39",
   "metadata": {
    "tags": [
     "hide-cell"
    ]
   },
   "source": [
    "loads_2030 = n_NT_2030h.loads_t.p_set\n",
    "loads_2030.head()"
   ],
   "outputs": [],
   "execution_count": null
  },
  {
   "cell_type": "markdown",
   "id": "05458163",
   "metadata": {},
   "source": [
    "Let's plot the electricity demand time series:"
   ]
  },
  {
   "cell_type": "code",
   "id": "85992bcd",
   "metadata": {},
   "source": [
    "fig, ax = plt.subplots()\n",
    "loads_2030.div(1e3).plot(\n",
    "    xlabel=\"Time\",\n",
    "    ylabel=\"Load [GW]\",\n",
    "    title=\"Electricity Load Time Series - NT - 2030\",\n",
    "    grid=True,\n",
    "    ax=ax,\n",
    ")\n",
    "\n",
    "ax.legend(loc=\"upper center\", bbox_to_anchor=(0.5, -0.15), ncols=10)\n",
    "ax.grid(True, linestyle=\"--\");"
   ],
   "outputs": [],
   "execution_count": null
  },
  {
   "cell_type": "markdown",
   "id": "5cdd854e",
   "metadata": {},
   "source": [
    "This is very overwhelming to look at. Let's filter that down a bit..."
   ]
  },
  {
   "cell_type": "code",
   "id": "31bfe14f",
   "metadata": {},
   "source": [
    "# Group country profiles together and select a week\n",
    "country_mapping = n_NT_2030h.buses.query(\"carrier=='AC'\").country\n",
    "loads_2030_by_country = (\n",
    "    n_NT_2030h.loads_t.p_set.T.rename(country_mapping, axis=0)\n",
    "    .groupby(\"Load\")\n",
    "    .sum()\n",
    "    .T.loc[\"2009-03-01\":\"2009-03-07\", [\"FR\", \"DE\", \"GB\"]]\n",
    ")\n",
    "\n",
    "# Create the plot\n",
    "fig, ax = plt.subplots()\n",
    "loads_2030_by_country.div(1e3).plot(\n",
    "    xlabel=\"Time\",\n",
    "    ylabel=\"Load [GW]\",\n",
    "    title=\"Electricity Load Time Series - NT - 2030\",\n",
    "    ax=ax,\n",
    ")\n",
    "\n",
    "ax.grid(True, linestyle=\"--\")\n",
    "ax.legend();"
   ],
   "outputs": [],
   "execution_count": null
  },
  {
   "cell_type": "markdown",
   "id": "90e32485",
   "metadata": {},
   "source": [
    "As you might remember, we can also use the **PyPSA Statistics** module that we introduced in the last workshop to interactively visualize these electricity demand inputs from the network. For this to work, we need a solved network.\n",
    "\n",
    "Let's load our pre-solved networks, so we can use the statistics module to analyze it."
   ]
  },
  {
   "cell_type": "code",
   "id": "7181673d",
   "metadata": {},
   "source": [
    "# Import networks\n",
    "n_NT_2030 = pypsa.Network(\"results/tyndp/NT/networks/base_s_all___2030.nc\")\n",
    "n_DE_2040 = pypsa.Network(\"results/tyndp/DE/networks/base_s_all___2040.nc\")\n",
    "\n",
    "# Fix missing colors\n",
    "n_NT_2030.carriers.loc[\"none\", \"color\"] = \"#000000\"\n",
    "n_NT_2030.carriers.loc[\"\", \"color\"] = \"#000000\"\n",
    "n_DE_2040.carriers.loc[\"none\", \"color\"] = \"#000000\"\n",
    "n_DE_2040.carriers.loc[\"\", \"color\"] = \"#000000\""
   ],
   "outputs": [],
   "execution_count": null
  },
  {
   "cell_type": "code",
   "id": "02b9c885",
   "metadata": {},
   "source": [
    "# Let's define helper variables\n",
    "s_NT_2030 = n_NT_2030.statistics\n",
    "s_DE_2040 = n_DE_2040.statistics"
   ],
   "outputs": [],
   "execution_count": null
  },
  {
   "cell_type": "markdown",
   "id": "1e1d1658",
   "metadata": {},
   "source": [
    "Let's access the load data using `statistics.withdrawal()`. The electricity load is attached to the `low voltage` buses."
   ]
  },
  {
   "cell_type": "code",
   "id": "4952e155",
   "metadata": {},
   "source": [
    "s_NT_2030.withdrawal(\n",
    "    bus_carrier=\"low voltage\", comps=\"Load\", aggregate_time=False, groupby=False\n",
    ").T.head()"
   ],
   "outputs": [],
   "execution_count": null
  },
  {
   "cell_type": "markdown",
   "id": "41247bcd",
   "metadata": {},
   "source": [
    "As previously, we can plot all the countries at the same time, but now using the `statistics` module..."
   ]
  },
  {
   "cell_type": "code",
   "id": "957d953b",
   "metadata": {},
   "source": [
    "fig, ax, facet_grid = s_NT_2030.withdrawal.plot.line(\n",
    "    bus_carrier=\"low voltage\",\n",
    "    y=\"value\",\n",
    "    x=\"snapshot\",\n",
    "    color=\"country\",\n",
    ")\n",
    "\n",
    "fig.set_size_inches(14, 7)\n",
    "fig.suptitle(\"Electricity demand Time Series - NT - 2030\", y=1.05)\n",
    "\n",
    "ax.set_ylabel(\"Load [MW]\")\n",
    "ax.set_xlabel(\"Time\");"
   ],
   "outputs": [],
   "execution_count": null
  },
  {
   "cell_type": "markdown",
   "id": "d1d173ee",
   "metadata": {},
   "source": [
    "However, plotting individual countries is now easier. Let's present two countries."
   ]
  },
  {
   "cell_type": "code",
   "id": "f9a4a6c0",
   "metadata": {},
   "source": [
    "fig, ax, facet_col = s_NT_2030.withdrawal.plot.area(\n",
    "    bus_carrier=\"low voltage\",\n",
    "    y=\"value\",\n",
    "    x=\"snapshot\",\n",
    "    color=\"carrier\",\n",
    "    stacked=True,\n",
    "    facet_row=\"country\",\n",
    "    query=\"carrier == 'electricity' and country in ['DE', 'FR']\",\n",
    "    figsize=(14, 7),\n",
    ")\n",
    "\n",
    "fig.suptitle(\"Electricity demand Time Series - NT - 2030\", y=1.05)\n",
    "\n",
    "ax[0, 0].set_ylabel(\"Load [MW]\")\n",
    "ax[1, 0].set_ylabel(\"Load [MW]\")\n",
    "ax[1, 0].set_xlabel(\"Time\");"
   ],
   "outputs": [],
   "execution_count": null
  },
  {
   "cell_type": "markdown",
   "id": "5e2f502e",
   "metadata": {},
   "source": [
    "As you can see, the statistics module is a powerful tool to explore your results. You can find more information about it in the [first workshop notebook](20250409-workshop-pypsa-01.ipynb#extracting-insights-visualization) and in the official [PyPSA documentation](https://docs.pypsa.org/latest/user-guide/plotting/charts/)."
   ]
  },
  {
   "cell_type": "markdown",
   "id": "b93a51e6",
   "metadata": {},
   "source": [
    "## PECD capacity factors"
   ]
  },
  {
   "cell_type": "markdown",
   "id": "2acd585d",
   "metadata": {},
   "source": [
    "The Pan-European Climate Database (PECD) provides capacity factor profiles for all the different renewable technologies used in the TYNDP. We processed these input data files into a Python and PyPSA friendly input format.\n",
    "\n",
    "Let's start by looking at the processed capacity factor time series for Solar PV Rooftop for 2030. These processed data are stored in the `resources` directory, as they are an output of `build_renewable_profiles_pecd`. We will filter the data to a set of countries and a week."
   ]
  },
  {
   "cell_type": "code",
   "id": "db551850",
   "metadata": {},
   "source": [
    "cf_pv_rftp = pd.read_csv(\n",
    "    \"resources/tyndp/NT/pecd_data_LFSolarPVRooftop_2030.csv\",\n",
    "    index_col=0,\n",
    "    parse_dates=True,\n",
    ").loc[\"2009-07-01\":\"2009-07-04\", [\"SE04\", \"DE00\", \"FR00\", \"ES00\"]]\n",
    "cf_pv_rftp.head(10)"
   ],
   "outputs": [],
   "execution_count": null
  },
  {
   "cell_type": "markdown",
   "id": "0c853fb2",
   "metadata": {},
   "source": [
    "Using a heatmap, we can better grasp the content of the data."
   ]
  },
  {
   "cell_type": "code",
   "id": "f0947d0e",
   "metadata": {},
   "source": [
    "fig, ax = plt.subplots()\n",
    "sns.heatmap(cf_pv_rftp.T, cmap=\"viridis\", cbar_kws={\"label\": \"Capacity Factor\"}, ax=ax)\n",
    "\n",
    "ax.set_title(\"Capacity Factor Time Series - NT - 2030 - March 1-4\")\n",
    "tick_positions = range(0, len(cf_pv_rftp), 24)\n",
    "ax.set_xticks(tick_positions)\n",
    "ax.set_xticklabels(\n",
    "    cf_pv_rftp.index[tick_positions].strftime(\"%Y-%m-%d\"), rotation=45, ha=\"right\"\n",
    ")\n",
    "\n",
    "ax.set_xlabel(\"Time\")\n",
    "ax.set_ylabel(\"Node\");"
   ],
   "outputs": [],
   "execution_count": null
  },
  {
   "cell_type": "markdown",
   "id": "f73476ae",
   "metadata": {},
   "source": [
    "We can also present the data in a line plot."
   ]
  },
  {
   "cell_type": "code",
   "id": "6c4c327b",
   "metadata": {},
   "source": [
    "fig, ax = plt.subplots()\n",
    "\n",
    "cf_pv_rftp.plot(\n",
    "    title=\"Capacity Factor Time Series - NT - 2030 - March 1-4\",\n",
    "    xlabel=\"Date\",\n",
    "    ylabel=\"Capacity Factor\",\n",
    "    ax=ax,\n",
    ");"
   ],
   "outputs": [],
   "execution_count": null
  },
  {
   "cell_type": "markdown",
   "id": "7785fc1f",
   "metadata": {},
   "source": [
    "## Task 3: Compute average capacity factor\n",
    "\n",
    "**a)** Locate the resource file with onshore wind capacity factors used for NT in 2030.\n",
    "\n",
    "**b)** Compute the average onshore wind capacity factor for all the countries in the PECD.\n",
    "\n",
    "**c)** Verify one of the values directly in the network.\n",
    "\n",
    "Hint: Capacity factors are defined as time-varying parameters of generators and are called `p_max_pu`."
   ]
  },
  {
   "cell_type": "code",
   "id": "bbf324fe",
   "metadata": {},
   "source": [
    "# Your solution a)"
   ],
   "outputs": [],
   "execution_count": null
  },
  {
   "cell_type": "code",
   "id": "572e5fc1",
   "metadata": {},
   "source": [
    "# Your solution b)"
   ],
   "outputs": [],
   "execution_count": null
  },
  {
   "cell_type": "code",
   "id": "70669dbc",
   "metadata": {},
   "source": [
    "# Your solution c)"
   ],
   "outputs": [],
   "execution_count": null
  },
  {
   "cell_type": "markdown",
   "id": "aad8ea68",
   "metadata": {},
   "source": [
    "## Onshore wind and solar"
   ]
  },
  {
   "cell_type": "markdown",
   "id": "6ff4066e",
   "metadata": {},
   "source": [
    "The TYNDP provides existing capacities with the Pan-European Market Modelling database (PEMMDB) and expansion trajectories for given investment candidates and expandable technologies. For the implemented onshore wind and solar technologies, these have been included in beta release v0.3 of the Open-TYNDP model.\n",
    "\n",
    "It is possible to retrieve those values from the networks as they are added as `p_nom_min` and `p_nom_max` of the generators. However, for simplicity, we will import the values directly from the processed input files for the DE scenario. This allows us to investigate the entire trajectory path at once instead of reading one network per planning horizon."
   ]
  },
  {
   "cell_type": "code",
   "id": "a651700d",
   "metadata": {},
   "source": [
    "trj = pd.read_csv(\"resources/tyndp/DE/tyndp_trajectories.csv\", index_col=0)\n",
    "trj.head()"
   ],
   "outputs": [],
   "execution_count": null
  },
  {
   "cell_type": "markdown",
   "id": "28cbceb0",
   "metadata": {},
   "source": [
    "Similar to the capacity factor time series, we want to focus on the Solar PV Rooftop technology and its trajectory path. Let's take Germany (DE00) to investigate."
   ]
  },
  {
   "cell_type": "code",
   "id": "19b984f5",
   "metadata": {},
   "source": [
    "trj_pv_rftp_de = (\n",
    "    trj.query(\"carrier == 'solar-pv-rooftop' and bus == 'DE00'\")\n",
    "    .sort_values(by=\"pyear\")\n",
    "    .set_index(\"pyear\")[[\"p_nom_min\", \"p_nom_max\"]]\n",
    "    .div(1e3)  # GW\n",
    ")\n",
    "trj_pv_rftp_de"
   ],
   "outputs": [],
   "execution_count": null
  },
  {
   "cell_type": "markdown",
   "id": "14037d42",
   "metadata": {},
   "source": [
    "Now that we have collected the data, we can create a nice visualization of it."
   ]
  },
  {
   "cell_type": "code",
   "id": "4f8e1844",
   "metadata": {},
   "source": [
    "fig, ax = plt.subplots()\n",
    "trj_pv_rftp_de.plot(\n",
    "    title=\"Solar PV Rooftop Capacity Trajectories - DE scenario - DE00\",\n",
    "    xlabel=\"Planning Year\",\n",
    "    ylabel=\"Capacity [GW]\",\n",
    "    color=[\"#E63946\", \"#1D3557\"],\n",
    "    style=\"*--\",\n",
    "    ax=ax,\n",
    ")\n",
    "\n",
    "ax.fill_between(\n",
    "    trj_pv_rftp_de.index,\n",
    "    trj_pv_rftp_de.iloc[:, 0],\n",
    "    trj_pv_rftp_de.iloc[:, 1],\n",
    "    alpha=0.25,\n",
    "    color=\"#457B9D\",\n",
    "    label=\"Trajectory Range\",\n",
    ")\n",
    "\n",
    "ax.xaxis.set_major_locator(MultipleLocator(5))\n",
    "ax.set_xlim(trj_pv_rftp_de.index.min(), trj_pv_rftp_de.index.max())"
   ],
   "outputs": [],
   "execution_count": null
  },
  {
   "cell_type": "markdown",
   "id": "8d957d3c",
   "metadata": {},
   "source": [
    "Now, let's access the network for the DE scenario to compare one of these trajectory values for 2040."
   ]
  },
  {
   "cell_type": "code",
   "id": "567331da",
   "metadata": {},
   "source": [
    "trj_pv_rftp_de_nc = (\n",
    "    n_DE_2040.generators.query(\"carrier == 'solar-pv-rooftop' and bus == 'DE00'\")\n",
    "    .sort_index()[[\"p_nom_opt\", \"p_nom_min\", \"p_nom_max\"]]\n",
    "    .div(1e3)  # in GW\n",
    ")\n",
    "trj_pv_rftp_de_nc"
   ],
   "outputs": [],
   "execution_count": null
  },
  {
   "metadata": {},
   "cell_type": "markdown",
   "source": [
    "Assets remain in the PyPSA network throughout their entire operational lifetime. The year in an asset's name (e.g \"2030\") indicates its build year, not the cumulative capacity in that investment period.\n",
    "\n",
    "Example: In the 2040 planning year, your network contains:\n",
    "\n",
    "- Generators named \"2030\" (built in 2030, still operational)\n",
    "- Generators named \"2040\" (newly built in 2040)\n",
    "\n",
    "Each generator stores information that depends on its build year (such as efficiency and costs), and after optimization, it contains the cost-optimal capacity that is added in that specific year."
   ],
   "id": "e8b9a3beb497c963"
  },
  {
   "cell_type": "markdown",
   "id": "72a3c693",
   "metadata": {},
   "source": [
    "As we can see, the `p_nom_min` and `p_nom_max` values for 2040 do not match the reported trajectory values above. The TYNDP trajectories are cumulative trajectories. This means that 2040 generators are bound to extend the optimal capacity of the still operational generators of 2030.\n",
    "\n",
    "Therefore, if we add the existing capacity (`p_nom_opt`) from 2030 to the `p_nom_min` and `p_nom_max` values from 2040, we will obtain the reported trajectory values shown above:"
   ]
  },
  {
   "cell_type": "code",
   "id": "e0899d25",
   "metadata": {},
   "source": [
    "(\n",
    "    trj_pv_rftp_de_nc.loc[\"DE00 0 solar-pv-rooftop-2040\", [\"p_nom_min\", \"p_nom_max\"]]\n",
    "    + trj_pv_rftp_de_nc.loc[\"DE00 0 solar-pv-rooftop-2030\", \"p_nom_opt\"]\n",
    ")"
   ],
   "outputs": [],
   "execution_count": null
  },
  {
   "cell_type": "markdown",
   "id": "49f0d930",
   "metadata": {},
   "source": [
    "## Task 4: Verify onshore wind trajectories\n",
    "\n",
    "Verify onshore wind trajectories in the network itself. \n",
    "\n",
    "Hint: This can be quick if you can copy and reuse the existing code used above."
   ]
  },
  {
   "cell_type": "code",
   "id": "4ccef502",
   "metadata": {},
   "source": [
    "# Your solution"
   ],
   "outputs": [],
   "execution_count": null
  },
  {
   "cell_type": "markdown",
   "id": "9f5d366c",
   "metadata": {},
   "source": [
    "## Offshore Hubs"
   ]
  },
  {
   "cell_type": "markdown",
   "id": "705131c2",
   "metadata": {},
   "source": [
    "To implement the offshore methodology, new carriers (*i.e.*, technologies) are introduced. All the offshore technologies start with `offwind`."
   ]
  },
  {
   "cell_type": "code",
   "id": "90d46b43",
   "metadata": {},
   "source": [
    "offwind_carriers = n_NT_2030.carriers.query(\"Carrier.str.contains('offwind')\")\n",
    "offwind_carriers_i = offwind_carriers.index\n",
    "offwind_carriers"
   ],
   "outputs": [],
   "execution_count": null
  },
  {
   "cell_type": "markdown",
   "id": "585d7896",
   "metadata": {},
   "source": [
    "As you can see in the table above, all the offshore technologies are implemented. We model technologies that are a combination of the following:\n",
    "- both `ac` and `dc` zones, as well as `h2` generating windfarms;\n",
    "- both fixed-bottom (`fb`) and floating (`fl`) foundations;\n",
    "- both radial (`r`) and hub (`oh`) connections."
   ]
  },
  {
   "cell_type": "markdown",
   "id": "ebf4935d",
   "metadata": {},
   "source": [
    "We also introduce new offshore buses, both for electricity and hydrogen. Electricity buses use `AC_OH` as the carrier, while hydrogen buses use `H2_OH`."
   ]
  },
  {
   "cell_type": "code",
   "id": "6c1ea60c",
   "metadata": {},
   "source": [
    "n_NT_2030.buses.query(\"carrier.str.contains('OH')\").head()"
   ],
   "outputs": [],
   "execution_count": null
  },
  {
   "cell_type": "markdown",
   "id": "940bb32a",
   "metadata": {},
   "source": [
    "Let's narrow down this list to a single country."
   ]
  },
  {
   "cell_type": "code",
   "id": "1edd71d8",
   "metadata": {},
   "source": [
    "buses = n_NT_2030.buses.query(\"carrier.str.contains('OH') and country=='BE'\")\n",
    "buses_i = buses.index\n",
    "buses"
   ],
   "outputs": [],
   "execution_count": null
  },
  {
   "cell_type": "markdown",
   "id": "3d2b3577",
   "metadata": {},
   "source": [
    "Using `n.plot.explore()`, we can easily get an overview of the network topology. Let's clean the network before exploring it to only focus on the electrical offshore topology."
   ]
  },
  {
   "cell_type": "code",
   "id": "2bb486c6",
   "metadata": {},
   "source": [
    "n_explore_ac_oh = n_NT_2030.copy()\n",
    "n_explore_ac_oh.remove(\n",
    "    \"Bus\", n_explore_ac_oh.buses.query(\"carrier not in ['AC_OH']\").index\n",
    ")\n",
    "n_explore_ac_oh.plot.explore()"
   ],
   "outputs": [],
   "execution_count": null
  },
  {
   "cell_type": "markdown",
   "id": "3e9a521b",
   "metadata": {},
   "source": [
    "Now, we can search the network for generators that are defined with those carriers."
   ]
  },
  {
   "cell_type": "code",
   "id": "07229e67",
   "metadata": {},
   "source": [
    "n_NT_2030.generators.query(\"carrier in @offwind_carriers_i\").head()"
   ],
   "outputs": [],
   "execution_count": null
  },
  {
   "cell_type": "markdown",
   "id": "039b187e",
   "metadata": {},
   "source": [
    "Let's focus on a specific country:"
   ]
  },
  {
   "cell_type": "code",
   "id": "d2860601",
   "metadata": {},
   "source": [
    "n_NT_2030.generators.query(\"carrier in @offwind_carriers_i and bus in @buses_i\")"
   ],
   "outputs": [],
   "execution_count": null
  },
  {
   "cell_type": "markdown",
   "id": "f07ca985",
   "metadata": {},
   "source": [
    "## Task 5: Extract existing offshore capacities\n",
    "\n",
    "Extract existing offshore capacities for the country of your choice using the statistics module."
   ]
  },
  {
   "cell_type": "code",
   "id": "11accc92",
   "metadata": {},
   "source": [
    "# Your solution"
   ],
   "outputs": [],
   "execution_count": null
  },
  {
   "cell_type": "markdown",
   "id": "2fa0d42f",
   "metadata": {},
   "source": [
    "We can also explore the data with the statistics module. First, we can create bar charts."
   ]
  },
  {
   "cell_type": "code",
   "id": "1f568695",
   "metadata": {},
   "source": [
    "fig, ax, facet_grid = s_DE_2040.optimal_capacity.plot.bar(\n",
    "    bus_carrier=[\"AC\", \"AC_OH\", \"H2_OH\"],\n",
    "    query=\"carrier.str.startswith('offwind') and country in ['NL', 'GB']\",\n",
    "    facet_col=\"country\",\n",
    ")\n",
    "fig.suptitle(\"Offshore wind capacities - DE - 2040\", y=1.05);"
   ],
   "outputs": [],
   "execution_count": null
  },
  {
   "cell_type": "markdown",
   "id": "ef0ef7fa",
   "metadata": {},
   "source": [
    "Then, we can create maps."
   ]
  },
  {
   "cell_type": "code",
   "id": "7309445e",
   "metadata": {},
   "source": [
    "# Let's clean a network copy to only keep offshore data\n",
    "n_map = n_DE_2040.copy()\n",
    "n_map.remove(\"Bus\", n_map.buses.query(\"carrier not in ['AC', 'AC_OH', 'H2_OH']\").index)\n",
    "n_map.remove(\n",
    "    \"Generator\", n_map.generators.query(\"not carrier.str.startswith('offwind')\").index\n",
    ")\n",
    "n_map.remove(\"Link\", n_map.links.index)\n",
    "n_map.remove(\"StorageUnit\", n_map.storage_units.index)"
   ],
   "outputs": [],
   "execution_count": null
  },
  {
   "cell_type": "code",
   "id": "03488719",
   "metadata": {},
   "source": [
    "# Define map projection\n",
    "def load_projection(plotting_params):\n",
    "    proj_kwargs = plotting_params.get(\"projection\", dict(name=\"EqualEarth\"))\n",
    "    proj_func = getattr(ccrs, proj_kwargs.pop(\"name\"))\n",
    "    return proj_func(**proj_kwargs)\n",
    "\n",
    "\n",
    "proj = load_projection(dict(name=\"EqualEarth\"))"
   ],
   "outputs": [],
   "execution_count": null
  },
  {
   "cell_type": "code",
   "id": "0d304aee",
   "metadata": {},
   "source": [
    "# Create the map\n",
    "subplot_kw = {\"projection\": proj}\n",
    "fig, ax = plt.subplots(figsize=(9, 9), subplot_kw=subplot_kw)\n",
    "n_map.statistics.optimal_capacity.plot.map(\n",
    "    bus_carrier=[\"AC\", \"AC_OH\", \"H2_OH\"],\n",
    "    ax=ax,\n",
    "    bus_area_fraction=0.006,\n",
    "    title=\"Offshore wind capacities - DE - 2040\",\n",
    "    legend_circles_kw=dict(\n",
    "        frameon=False,\n",
    "    ),\n",
    ");"
   ],
   "outputs": [],
   "execution_count": null
  },
  {
   "cell_type": "markdown",
   "id": "d82157b9",
   "metadata": {},
   "source": [
    "On the map above, we can see the two types of offshore wind connections. Radially connected capacities are attached to and plotted on the mainland node, hence offshore capacities \"on land\". In contrast, offshore hub capacities are attached to and plotted on the actual offshore nodes.\n",
    "\n",
    "The NT scenario is a dispatch scenario. This is implemented in PyPSA using the argument `p_nom_extendable = False`. However, for the two other scenarios, we need to model capacity expansion. \n",
    "\n",
    "Currently, the model is configured to do myopic optimization. This means that only the capacities of the current planning horizon are expandable. Generators of the previous planning horizons are fixed at their optimal capacities. Let's verify this in the network."
   ]
  },
  {
   "cell_type": "code",
   "id": "f04fa77e",
   "metadata": {},
   "source": [
    "# Let's explore offshore wind generators in Denmark\n",
    "c_buses = n_DE_2040.buses.query(\"country == 'DK'\").index\n",
    "(\n",
    "    n_DE_2040.generators.query(\"carrier in @offwind_carriers_i and bus in @c_buses\")[\n",
    "        [\n",
    "            \"build_year\",\n",
    "            \"p_nom\",\n",
    "            \"p_nom_min\",\n",
    "            \"p_nom_max\",\n",
    "            \"p_nom_opt\",\n",
    "            \"p_nom_extendable\",\n",
    "        ]\n",
    "    ].sort_values(by=\"build_year\")\n",
    ")"
   ],
   "outputs": [],
   "execution_count": null
  },
  {
   "cell_type": "markdown",
   "id": "3cf4a2e0",
   "metadata": {},
   "source": [
    "You can see multiple columns in the table:\n",
    "- `build_year`, the build year of the asset (input)\n",
    "- `p_nom`, the nominal power (input)\n",
    "- `p_nom_min`, if expansion is enabled, the minimum value of the nominal capacity (input)\n",
    "- `p_nom_max`, if expansion is enabled, the maximum value of the nominal capacity (input)\n",
    "- `p_nom_opt`, the optimized nominal capacity (output)\n",
    "- `p_nom_extendable`, if expansion is enabled for that asset (input)\n",
    "\n",
    "The `p_nom_min` reflects the existing capacities defined in the TYNDP, while the `p_nom_max` represents the layer potential. We also implemented constraints to ensure we respect the zone potentials and the trajectories defined in the data:\n",
    "- A constraint limits the expansion of DC and H2 sitting on the same location, as the sum of the two capacities cannot exceed the layer potential.\n",
    "- A constraint sets the maximum potential per zone, taking into account the zone trajectories."
   ]
  },
  {
   "cell_type": "markdown",
   "id": "bd209981",
   "metadata": {},
   "source": [
    "## H2 imports"
   ]
  },
  {
   "cell_type": "markdown",
   "id": "ddf6bd84",
   "metadata": {},
   "source": [
    "There have also been some important additions to the H2 infrastructure since our last workshop. The different H2 import corridors are now included in the model with a simple pipeline transport representation, similar to the H2 reference grid.\n",
    "\n",
    "The import pipelines are implemented using PyPSA's link component. As is convention in PyPSA, this means `bus0` represents the external import node and `bus1` the importing country's Hydrogen Zone 2 node.\n",
    "\n",
    "We can investigate our NT network and list the importing nodes."
   ]
  },
  {
   "cell_type": "code",
   "id": "f7543d91",
   "metadata": {},
   "source": [
    "h2_import = n_NT_2030.links.filter(like=\"H2 import\", axis=0)\n",
    "set(h2_import.bus1)"
   ],
   "outputs": [],
   "execution_count": null
  },
  {
   "cell_type": "markdown",
   "id": "f0b4e8ce",
   "metadata": {},
   "source": [
    "As we can see from the `p_nom_extendable` attribute of these links, the H2 import corridors cannot be endogenously expanded by the model but are rather fixed inputs as in the TYNDP 2024 methodology."
   ]
  },
  {
   "cell_type": "code",
   "id": "292a6b2f",
   "metadata": {},
   "source": [
    "h2_import.p_nom_extendable.all()"
   ],
   "outputs": [],
   "execution_count": null
  },
  {
   "cell_type": "code",
   "id": "469c765e",
   "metadata": {},
   "source": [
    "h2_import[[\"bus0\", \"bus1\", \"carrier\", \"p_nom_extendable\"]].head()"
   ],
   "outputs": [],
   "execution_count": null
  },
  {
   "cell_type": "markdown",
   "id": "bf0e432f",
   "metadata": {},
   "source": [
    "We can investigate our DE network to create a similar plot to what we created last time. Let's import some handy plotting functions from the open-tyndp workflow for this:"
   ]
  },
  {
   "cell_type": "code",
   "id": "eb8a3d03",
   "metadata": {},
   "source": [
    "# It is generally NOT a recommended practice to ignore deprecation warnings.\n",
    "# However, for the purposes of this workshop, we will make use of it to make our output less noisy\n",
    "warnings.filterwarnings(action=\"ignore\", category=DeprecationWarning)\n",
    "from scripts.plot_base_hydrogen_network import plot_h2_map_base"
   ],
   "outputs": [],
   "execution_count": null
  },
  {
   "cell_type": "markdown",
   "id": "1e45eab6",
   "metadata": {},
   "source": [
    "And plot the H2 reference grid together with the import corridors:"
   ]
  },
  {
   "cell_type": "code",
   "id": "410fe41a",
   "metadata": {},
   "source": [
    "warnings.filterwarnings(action=\"ignore\", category=DeprecationWarning)\n",
    "map_opts = {\n",
    "    \"boundaries\": [-11, 30, 28, 71],\n",
    "    \"geomap_colors\": {\n",
    "        \"ocean\": \"white\",\n",
    "        \"land\": \"white\",\n",
    "    },\n",
    "}\n",
    "\n",
    "plot_h2_map_base(\n",
    "    network=n_DE_2040,\n",
    "    map_opts=map_opts,\n",
    "    map_fn=\"../../../h2_import_corridors_DE2040.png\",\n",
    ")\n",
    "Image(\"../../../h2_import_corridors_DE2040.png\")"
   ],
   "outputs": [],
   "execution_count": null
  },
  {
   "cell_type": "markdown",
   "id": "2037a30a",
   "metadata": {},
   "source": [
    "## Task 6: Investigate H2 import corridors"
   ]
  },
  {
   "cell_type": "markdown",
   "id": "93a7e45c",
   "metadata": {},
   "source": [
    " **a)** Extract and investigate the different import corridors for one specific country of your choice using our NT 2030 network.\n",
    "\n",
    " **b)** Compare with DE 2040 data."
   ]
  },
  {
   "cell_type": "code",
   "id": "917b721b",
   "metadata": {},
   "source": [
    "# Your solution a)"
   ],
   "outputs": [],
   "execution_count": null
  },
  {
   "cell_type": "code",
   "id": "2b00c97d",
   "metadata": {},
   "source": [
    "# Your solution b)"
   ],
   "outputs": [],
   "execution_count": null
  },
  {
   "cell_type": "markdown",
   "id": "f16ae2fe",
   "metadata": {},
   "source": [
    "# Benchmarking framework"
   ]
  },
  {
   "cell_type": "markdown",
   "id": "9d46af42",
   "metadata": {},
   "source": [
    "Open-TYNDP introduces a benchmarking framework for continuous and systematic validation of Open-TYNDP model outputs against TYNDP 2024 scenarios. This framework provides flexible and scalable validation across multiple metrics and benchmarking methods.\n",
    "\n",
    "Comprehensive documentation of the framework can be found in the [documentation](https://open-tyndp.readthedocs.io/en/latest/benchmarking.html)."
   ]
  },
  {
   "cell_type": "markdown",
   "id": "76038b21",
   "metadata": {},
   "source": [
    "### Metrics\n",
    "\n",
    "The following metrics from the [TYNDP 2024 Scenarios](https://2024.entsos-tyndp-scenarios.eu/wp-content/uploads/2025/01/TYNDP_2024_Scenarios_Report_FInal_Version_250128_web.pdf) report are considered relevant for benchmarking:\n",
    "\n",
    "- Exogenous Inputs:\n",
    "    - Benchmark Final Energy demand by fuel, EU27 (TWh), (Fig 5, p24 and Fig 51, p63)\n",
    "    - Benchmark Electricity demand per sector, EU27 (TWh), (Fig 6, p25 and Fig 52, p63)\n",
    "    - Benchmark Methane demand by sector, EU27 (TWh), (Fig 8, p27 and Fig 53, p64)\n",
    "    - Benchmark Hydrogen demand by sector, EU27 (TWh), (Fig 10, p28 and Fig 54, p64)\n",
    "- Investment and dispatch modelling outputs:\n",
    "    - Benchmark of net installed capacity for electricity generation, EU27 (GW), (Fig 25, p39 and Fig 55, p65)\n",
    "    - Benchmark of electricity generation, EU27 (TWh), (Fig 26, p39 and Fig 56, p65)\n",
    "    - Benchmark methane supply, EU27 (TWh), (Fig 32, p45 and Fig 57, p66)\n",
    "    - Benchmark hydrogen supply, EU27 (TWh), (Fig 33, p46 and Fig 58, p67)\n",
    "    - Benchmark biomass supply, EU27 (TWh), (Fig 59, p67)\n",
    "    - Benchmark energy imports, EU27 (TWh), (Fig 40, p51 and Fig 60, p68)\n",
    "    - Hourly generation profile of power generation, Fig 30, p35\n"
   ]
  },
  {
   "cell_type": "markdown",
   "id": "899cce22",
   "metadata": {},
   "source": [
    "The benchmarking is based on a methodology proposed by [Wen et al. (2022)](https://www.sciencedirect.com/science/article/pii/S0306261922011667). This methodology provides a multi-criteria approach to ensure: diversity, effectiveness, robustness, and compatibility.\n",
    "\n",
    "This methodology defines the following indicators:\n",
    "- **Missing**: Count of carriers/sectors dropped due to missing values\n",
    "- **sMPE** (Symmetric Mean Percentage Error): Indicates the direction of the deviation between modeled scenarios and TYNDP 2024 outcomes, showing if the output is overall overestimated or underestimated.\n",
    "- **sMAPE** (Symmetric Mean Absolute Percentage Error): Indicates the absolute magnitude of the deviations, avoiding the cancellation of negative and positive errors.\n",
    "- **sMdAPE** (Symmetric Median Absolute Percentage Error): Provides skewness information to complement sMAPE.\n",
    "- **RMSLE** (Root Mean Square Logarithmic Error): Complements the percentage errors since it shows the logarithmic deviation values.\n",
    "- **Growth error**: Shows the error on the temporal scale (i.e., between planning horizons). This indicator is ignored for dynamic time series (i.e., hourly generation profiles).\n"
   ]
  },
  {
   "cell_type": "markdown",
   "id": "ec872e86",
   "metadata": {},
   "source": [
    "### Outputs"
   ]
  },
  {
   "cell_type": "markdown",
   "id": "a7b31632",
   "metadata": {},
   "source": [
    ":::{warning}\n",
    "Open-TYNDP is under active development and is not yet feature-complete. The current [development status](https://open-tyndp.readthedocs.io/en/latest/index.html#development-status) and the general [Limitations](https://open-tyndp.readthedocs.io/en/latest/limitations.html) are important to understand before assessing the current benchmarking results.\n",
    ":::\n",
    "\n",
    "We can now explore the content of the `results/tyndp/<SCENARIO>/validation` folder. It's in this folder that all the benchmarking data is stored. First, let's have a look at the summary figure. This figure presents the magnitude of the error for all indicators."
   ]
  },
  {
   "cell_type": "code",
   "id": "615cd247",
   "metadata": {},
   "source": [
    "display(\n",
    "    convert_from_path(\"results/tyndp/NT/validation/kpis_eu27_s_all___all_years.pdf\")[0]\n",
    ")"
   ],
   "outputs": [],
   "execution_count": null
  },
  {
   "cell_type": "markdown",
   "id": "71b273cd",
   "metadata": {},
   "source": [
    "Associated with this figure, a table presents all the indicators for each metric."
   ]
  },
  {
   "cell_type": "code",
   "id": "2d7c1baa",
   "metadata": {},
   "source": [
    "pd.read_csv(\"results/tyndp/NT/validation/kpis_eu27_s_all___all_years.csv\", index_col=0)"
   ],
   "outputs": [],
   "execution_count": null
  },
  {
   "cell_type": "markdown",
   "id": "fcf16a35",
   "metadata": {},
   "source": [
    "Note that figures and tables will always include a version tag (in this case `v0.2+gb9516f6f1`) to clearly identify the version of the codebase used to produce the validation.\n",
    "\n",
    "\n",
    "The same benchmarking information is available for all the metrics. Let's explore the quality of the power capacity metric."
   ]
  },
  {
   "cell_type": "code",
   "id": "6d90c1e9",
   "metadata": {},
   "source": [
    "display(\n",
    "    convert_from_path(\n",
    "        \"results/tyndp/NT/validation/graphics_s_all___all_years/benchmark_power_capacity_eu27_cy2009_2030.pdf\"\n",
    "    )[0]\n",
    ")"
   ],
   "outputs": [],
   "execution_count": null
  },
  {
   "cell_type": "markdown",
   "id": "325a1f31",
   "metadata": {},
   "source": [
    "Again, a table associated with the figure shows the detailed benchmarking data."
   ]
  },
  {
   "cell_type": "code",
   "id": "fa6c1198",
   "metadata": {},
   "source": [
    "pd.read_csv(\n",
    "    \"results/tyndp/NT/validation/csvs_s_all___all_years/power_capacity_eu27_cy2009_s_all___all_years.csv\",\n",
    "    index_col=0,\n",
    ")"
   ],
   "outputs": [],
   "execution_count": null
  },
  {
   "cell_type": "markdown",
   "id": "ae4cb62c",
   "metadata": {},
   "source": [
    "This feature is still work in progress and will be improved throughout the project."
   ]
  },
  {
   "cell_type": "markdown",
   "id": "6a393c49",
   "metadata": {},
   "source": [
    "# Solutions"
   ]
  },
  {
   "cell_type": "markdown",
   "id": "6bd84748",
   "metadata": {},
   "source": [
    "## Task 1: Executing a workflow with Snakemake"
   ]
  },
  {
   "cell_type": "code",
   "id": "6612039f",
   "metadata": {
    "tags": [
     "hide-cell"
    ]
   },
   "source": [
    "# Solution a)\n",
    "# ! snakemake -call data/base_2030.nc -n"
   ],
   "outputs": [],
   "execution_count": null
  },
  {
   "cell_type": "code",
   "id": "81d668d4",
   "metadata": {
    "tags": [
     "hide-cell"
    ]
   },
   "source": [
    "# Solution b)\n",
    "# ! snakemake -call"
   ],
   "outputs": [],
   "execution_count": null
  },
  {
   "cell_type": "code",
   "id": "5c39d444",
   "metadata": {
    "tags": [
     "hide-cell"
    ]
   },
   "source": [
    "# Solution c)\n",
    "# ! snakemake -call"
   ],
   "outputs": [],
   "execution_count": null
  },
  {
   "cell_type": "code",
   "id": "1a9e6a27",
   "metadata": {
    "tags": [
     "hide-cell"
    ]
   },
   "source": [
    "# Solution d)\n",
    "# Path(\"data/data_raw.csv\").touch()\n",
    "# ! snakemake -call"
   ],
   "outputs": [],
   "execution_count": null
  },
  {
   "cell_type": "code",
   "id": "21b0a75b",
   "metadata": {
    "tags": [
     "hide-cell"
    ]
   },
   "source": [
    "# Solution e)\n",
    "# ..."
   ],
   "outputs": [],
   "execution_count": null
  },
  {
   "cell_type": "markdown",
   "id": "c356d4a6",
   "metadata": {},
   "source": [
    "## Task 2: Explore the folder"
   ]
  },
  {
   "cell_type": "code",
   "id": "dab690f8",
   "metadata": {
    "tags": [
     "hide-cell"
    ]
   },
   "source": [
    "# Solution a)\n",
    "# data/tyndp_2024_bundle"
   ],
   "outputs": [],
   "execution_count": null
  },
  {
   "cell_type": "code",
   "id": "80ef4edd",
   "metadata": {
    "tags": [
     "hide-cell"
    ]
   },
   "source": [
    "# Solution b)\n",
    "# config/config.tyndp.yaml"
   ],
   "outputs": [],
   "execution_count": null
  },
  {
   "cell_type": "code",
   "id": "edbf0f33",
   "metadata": {
    "tags": [
     "hide-cell"
    ]
   },
   "source": [
    "# Solution c)\n",
    "# results/tyndp/NT/maps/base_s_all__-h2_network_2040.pdf"
   ],
   "outputs": [],
   "execution_count": null
  },
  {
   "cell_type": "markdown",
   "id": "3580f8c8",
   "metadata": {},
   "source": [
    "## Task 3: Compute average capacity factor"
   ]
  },
  {
   "cell_type": "code",
   "id": "2c754462",
   "metadata": {
    "tags": [
     "hide-cell"
    ]
   },
   "source": [
    "# Solution a)\n",
    "cf_onwind = pd.read_csv(\n",
    "    \"resources/tyndp/NT/pecd_data_Wind_Onshore_2030.csv\",\n",
    "    index_col=0,\n",
    "    parse_dates=True,\n",
    ")\n",
    "cf_onwind.head();"
   ],
   "outputs": [],
   "execution_count": null
  },
  {
   "cell_type": "code",
   "id": "4f40725b",
   "metadata": {
    "tags": [
     "hide-cell"
    ]
   },
   "source": [
    "# Solution b)\n",
    "cf_onwind.columns = cf_onwind.columns.str[:2]\n",
    "cf_onwind.columns.name = \"country\"\n",
    "\n",
    "cf_onwind_sorted = cf_onwind.T.groupby(by=\"country\").mean().mean(axis=1).sort_values()\n",
    "cf_onwind_sorted.tail()"
   ],
   "outputs": [],
   "execution_count": null
  },
  {
   "cell_type": "code",
   "id": "6c824007",
   "metadata": {
    "tags": [
     "hide-cell"
    ]
   },
   "source": [
    "fig, ax = plt.subplots(figsize=(14, 9))\n",
    "cf_onwind_sorted.plot.barh(\n",
    "    title=\"Average capacity factors - 2030\",\n",
    "    xlabel=\"Capacity factor [p.u]\",\n",
    "    ylabel=\"Country\",\n",
    "    ax=ax,\n",
    ");"
   ],
   "outputs": [],
   "execution_count": null
  },
  {
   "cell_type": "code",
   "id": "c98ff45b",
   "metadata": {
    "tags": [
     "hide-cell"
    ]
   },
   "source": [
    "# Solution c)\n",
    "c_buses = n_NT_2030h.buses.query(\"country=='IE'\").index\n",
    "c_gen = n_NT_2030h.generators.query(\"carrier=='onwind' and bus in @c_buses\").index\n",
    "c_cf = n_NT_2030h.generators_t.p_max_pu[c_gen]\n",
    "c_cf.mean()"
   ],
   "outputs": [],
   "execution_count": null
  },
  {
   "cell_type": "markdown",
   "id": "1e29596d",
   "metadata": {},
   "source": [
    "## Task 4: Verify onshore wind trajectories"
   ]
  },
  {
   "cell_type": "code",
   "id": "99211836",
   "metadata": {
    "tags": [
     "hide-cell"
    ]
   },
   "source": [
    "# Solution\n",
    "(\n",
    "    pd.read_csv(\"resources/tyndp/DE/tyndp_trajectories.csv\", index_col=0)\n",
    "    .query(\"bus=='DE00' and carrier == 'onwind'\")\n",
    "    .set_index(\"pyear\")\n",
    "    .sort_index()[[\"p_nom_min\", \"p_nom_max\"]]\n",
    "    .div(1e3)  # in GW\n",
    ")"
   ],
   "outputs": [],
   "execution_count": null
  },
  {
   "cell_type": "code",
   "id": "7252d009",
   "metadata": {
    "tags": [
     "hide-cell"
    ]
   },
   "source": [
    "trj_onwind_de = (\n",
    "    n_DE_2040.generators.query(\"carrier == 'onwind' and bus == 'DE00'\")\n",
    "    .sort_index()[[\"p_nom_opt\", \"p_nom_min\", \"p_nom_max\"]]\n",
    "    .div(1e3)  # in GW\n",
    ")\n",
    "trj_onwind_de"
   ],
   "outputs": [],
   "execution_count": null
  },
  {
   "cell_type": "code",
   "id": "4ff2dcd7",
   "metadata": {
    "tags": [
     "hide-cell"
    ]
   },
   "source": [
    "(\n",
    "    trj_onwind_de.loc[\"DE00 0 onwind-2040\", [\"p_nom_min\", \"p_nom_max\"]]\n",
    "    + trj_onwind_de.loc[\"DE00 0 onwind-2030\", \"p_nom_opt\"]\n",
    ")"
   ],
   "outputs": [],
   "execution_count": null
  },
  {
   "cell_type": "markdown",
   "id": "1473007f",
   "metadata": {},
   "source": [
    "## Task 5: Extract existing offshore capacities"
   ]
  },
  {
   "cell_type": "code",
   "id": "d2f467d5",
   "metadata": {
    "tags": [
     "hide-cell"
    ]
   },
   "source": [
    "# Solution\n",
    "(\n",
    "    s_NT_2030.optimal_capacity(\n",
    "        bus_carrier=[\"AC\", \"AC_OH\", \"H2_OH\"],\n",
    "        comps=\"Generator\",\n",
    "        groupby=[\"bus\", \"carrier\"],\n",
    "    )\n",
    "    .to_frame(\"p_nom_opt\")\n",
    "    .query(\"bus.str.contains('BE') and carrier.str.startswith('offwind')\")\n",
    ")"
   ],
   "outputs": [],
   "execution_count": null
  },
  {
   "cell_type": "markdown",
   "id": "d6da43dd",
   "metadata": {},
   "source": [
    "## Task 6: Investigate H2 import corridors"
   ]
  },
  {
   "cell_type": "code",
   "id": "5fb8d898",
   "metadata": {
    "tags": [
     "hide-cell"
    ]
   },
   "source": [
    "# Solution a)\n",
    "(\n",
    "    n_NT_2030.links.filter(like=\"H2 import\", axis=0).query(\"bus1.str.contains('BE')\")[\n",
    "        [\"bus0\", \"bus1\", \"carrier\", \"p_nom\"]\n",
    "    ]\n",
    ")"
   ],
   "outputs": [],
   "execution_count": null
  },
  {
   "cell_type": "code",
   "id": "8a598253",
   "metadata": {
    "tags": [
     "hide-cell"
    ]
   },
   "source": [
    "# Solution b)\n",
    "(\n",
    "    n_DE_2040.links.filter(like=\"H2 import\", axis=0).query(\"bus1.str.contains('BE')\")[\n",
    "        [\"bus0\", \"bus1\", \"carrier\", \"p_nom\"]\n",
    "    ]\n",
    ")"
   ],
   "outputs": [],
   "execution_count": null
  }
 ],
 "metadata": {
  "kernelspec": {
   "display_name": "open-tyndp",
   "language": "python",
   "name": "python3"
  },
  "language_info": {
   "codemirror_mode": {
    "name": "ipython",
    "version": 3
   },
   "file_extension": ".py",
   "mimetype": "text/x-python",
   "name": "python",
   "nbconvert_exporter": "python",
   "pygments_lexer": "ipython3",
   "version": "3.12.11"
  }
 },
 "nbformat": 4,
 "nbformat_minor": 5
}
